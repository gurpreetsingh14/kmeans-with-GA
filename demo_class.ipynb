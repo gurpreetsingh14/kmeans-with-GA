{
 "cells": [
  {
   "cell_type": "code",
   "execution_count": 44,
   "metadata": {},
   "outputs": [],
   "source": [
    "#Import Libraries\n",
    "from generate_data_class import GenerateData\n",
    "import genetic_algo_gs as gag\n",
    "import kmeans\n",
    "import numpy"
   ]
  },
  {
   "cell_type": "code",
   "execution_count": 45,
   "metadata": {},
   "outputs": [],
   "source": [
    "#Inputs\n",
    "k = 3\n",
    "\n",
    "initial_centroids = gag.init_cluster_center(k)\n",
    "fit_func = gag.fitness_func(initial_centroids)"
   ]
  },
  {
   "cell_type": "code",
   "execution_count": 46,
   "metadata": {},
   "outputs": [],
   "source": [
    "#Generate Data\n",
    "gy = GenerateData(k)\n",
    "rawData = gy.raw_data()"
   ]
  },
  {
   "cell_type": "code",
   "execution_count": 47,
   "metadata": {},
   "outputs": [
    {
     "name": "stdout",
     "output_type": "stream",
     "text": [
      "====================================================================\n",
      "Generation #-1   |fitness: 0.00138 |Centroid = [44.  50.6 12.1 12.1  2.2  2.2]\n",
      "Generation #0   |fitness: 0.00136 |Centroid = [0.  0.8 1.8 1.8 1.6 1.6]\n",
      "Generation #1   |fitness: 0.00136 |Centroid = [0.  0.8 1.8 1.8 1.6 1.4]\n",
      "Generation #2   |fitness: 0.00136 |Centroid = [0.  1.8 1.8 1.8 0.6 0.4]\n",
      "Generation #3   |fitness: 0.00136 |Centroid = [0.  1.8 1.8 1.8 1.6 0.6]\n",
      "Generation #4   |fitness: 0.00123 |Centroid = [0.  1.4 1.7 1.1 1.6 0.6]\n",
      "Generation #5   |fitness: 0.00135 |Centroid = [0.  1.4 1.7 1.8 1.6 0.6]\n",
      "Generation #6   |fitness: 0.00134 |Centroid = [0.  0.4 1.7 1.7 0.6 0.4]\n",
      "Generation #7   |fitness: 0.00134 |Centroid = [1.  0.4 1.7 1.7 0.6 0.4]\n",
      "Generation #8   |fitness: 0.00134 |Centroid = [0.  1.4 1.7 1.7 0.6 1.4]\n",
      "Generation #9   |fitness: 0.00135 |Centroid = [0.  1.4 1.7 1.8 0.6 0.4]\n",
      "Generation #10   |fitness: 0.00135 |Centroid = [0.  1.4 1.7 1.8 0.6 1.4]\n",
      "Generation #11   |fitness: 0.00135 |Centroid = [0.  1.4 1.7 1.8 0.6 0.4]\n",
      "Generation #12   |fitness: 0.00135 |Centroid = [0.  0.4 1.7 1.8 0.6 0.4]\n",
      "Generation #13   |fitness: 0.00135 |Centroid = [0.  0.4 1.7 1.8 0.6 1.4]\n",
      "Generation #14   |fitness: 0.00135 |Centroid = [1.  1.4 1.7 1.8 0.6 1.4]\n",
      "Generation #15   |fitness: 0.00134 |Centroid = [0.  0.4 1.7 1.7 0.6 1.4]\n",
      "Generation #16   |fitness: 0.00135 |Centroid = [1.  1.4 1.7 1.8 0.6 1.4]\n",
      "Generation #17   |fitness: 0.00135 |Centroid = [0.  0.4 1.7 1.8 0.6 1.4]\n",
      "Generation #18   |fitness: 0.00126 |Centroid = [1.  1.4 0.7 1.8 0.6 0.4]\n",
      "Generation #19   |fitness: 0.00134 |Centroid = [0.  1.4 1.7 1.7 0.6 0.4]\n",
      "Generation #20   |fitness: 0.00134 |Centroid = [0.  1.4 1.7 1.7 1.6 0.4]\n",
      "Generation #21   |fitness: 0.00134 |Centroid = [1.  0.4 1.7 1.7 1.6 0.4]\n",
      "Generation #22   |fitness: 0.00134 |Centroid = [1.  1.4 1.7 1.7 1.6 0.4]\n",
      "Generation #23   |fitness: 0.00134 |Centroid = [0.  1.4 1.7 1.7 1.6 1.4]\n",
      "Generation #24   |fitness: 0.00134 |Centroid = [0.  0.4 1.7 1.7 0.6 0.4]\n",
      "Generation #25   |fitness: 0.00134 |Centroid = [0.  1.4 1.7 1.7 0.6 0.4]\n",
      "Generation #26   |fitness: 0.00134 |Centroid = [0.  1.4 1.7 1.7 0.6 0.4]\n",
      "Generation #27   |fitness: 0.00134 |Centroid = [0.  1.4 1.7 1.7 0.6 1.4]\n",
      "Generation #28   |fitness: 0.00134 |Centroid = [1.  0.4 1.7 1.7 1.6 1.4]\n",
      "Generation #29   |fitness: 0.00134 |Centroid = [0.  0.4 1.7 1.7 0.6 0.4]\n",
      "Generation #30   |fitness: 0.00126 |Centroid = [1.  1.4 0.7 1.7 0.6 0.4]\n",
      "Generation #31   |fitness: 0.00126 |Centroid = [1.  1.4 0.7 1.7 0.6 0.4]\n",
      "Generation #32   |fitness: 0.00126 |Centroid = [1.  1.4 0.7 0.7 1.6 0.4]\n",
      "Generation #33   |fitness: 0.00126 |Centroid = [1.  1.4 0.7 0.7 1.6 0.4]\n",
      "Generation #34   |fitness: 0.00134 |Centroid = [0.  1.4 1.7 1.7 0.6 1.4]\n",
      "Generation #35   |fitness: 0.00126 |Centroid = [1.  1.4 0.7 0.7 1.6 0.4]\n",
      "Generation #36   |fitness: 0.00126 |Centroid = [1.  1.4 0.7 0.7 1.6 1.4]\n",
      "Generation #37   |fitness: 0.00134 |Centroid = [1.  0.4 1.7 1.7 1.6 0.4]\n",
      "Generation #38   |fitness: 0.00134 |Centroid = [1.  0.4 1.7 1.7 1.6 0.4]\n",
      "Generation #39   |fitness: 0.00134 |Centroid = [1.  0.4 1.7 1.7 1.6 1.4]\n",
      "Generation #40   |fitness: 0.00134 |Centroid = [0.  0.4 1.7 1.7 1.6 1.4]\n",
      "Generation #41   |fitness: 0.00134 |Centroid = [1.  1.4 1.7 1.7 1.6 1.4]\n",
      "Generation #42   |fitness: 0.00134 |Centroid = [0.  0.4 1.7 1.7 0.6 0.4]\n",
      "Generation #43   |fitness: 0.00134 |Centroid = [1.  0.4 1.7 1.7 0.6 1.4]\n",
      "Generation #44   |fitness: 0.00134 |Centroid = [1.  0.4 1.7 1.7 1.6 1.4]\n",
      "Generation #45   |fitness: 0.00134 |Centroid = [0.  0.4 1.7 1.7 1.6 0.4]\n",
      "Generation #46   |fitness: 0.00134 |Centroid = [0.  0.4 1.7 1.7 1.6 0.4]\n",
      "Generation #47   |fitness: 0.00134 |Centroid = [0.  0.4 1.7 1.7 1.6 0.4]\n",
      "Generation #48   |fitness: 0.00134 |Centroid = [1.  0.4 1.7 1.7 0.6 0.4]\n",
      "Generation #49   |fitness: 0.00134 |Centroid = [1.  0.4 1.7 1.7 1.6 0.4]\n",
      "Generation #50   |fitness: 0.00134 |Centroid = [1.  1.4 1.7 1.7 1.6 0.4]\n",
      "Generation #51   |fitness: 0.00134 |Centroid = [1.  0.4 1.7 1.7 1.6 0.4]\n",
      "Generation #52   |fitness: 0.00134 |Centroid = [1.  1.4 1.7 1.7 1.6 0.4]\n",
      "Generation #53   |fitness: 0.00134 |Centroid = [1.  0.4 1.7 1.7 1.6 0.4]\n",
      "Generation #54   |fitness: 0.00134 |Centroid = [0.  0.4 1.7 1.7 0.6 0.4]\n",
      "Generation #55   |fitness: 0.00134 |Centroid = [1.  0.4 1.7 1.7 1.6 1.4]\n",
      "Generation #56   |fitness: 0.00134 |Centroid = [1.  0.4 1.7 1.7 1.6 0.4]\n",
      "Generation #57   |fitness: 0.00134 |Centroid = [1.  1.4 1.7 1.7 1.6 1.4]\n",
      "Generation #58   |fitness: 0.00134 |Centroid = [1.  1.4 1.7 1.7 0.6 1.4]\n",
      "Generation #59   |fitness: 0.00134 |Centroid = [1.  0.4 1.7 1.7 0.6 1.4]\n",
      "Generation #60   |fitness: 0.00134 |Centroid = [0.  1.4 1.7 1.7 1.6 0.4]\n",
      "Generation #61   |fitness: 0.00134 |Centroid = [1.  1.4 1.7 1.7 0.6 0.4]\n",
      "Generation #62   |fitness: 0.00134 |Centroid = [0.  1.4 1.7 1.7 0.6 0.4]\n",
      "Generation #63   |fitness: 0.00134 |Centroid = [0.  0.4 1.7 1.7 0.6 1.4]\n",
      "Generation #64   |fitness: 0.00134 |Centroid = [0.  0.4 1.7 1.7 1.6 1.4]\n",
      "Generation #65   |fitness: 0.00134 |Centroid = [1.  0.4 1.7 1.7 1.6 1.4]\n",
      "Generation #66   |fitness: 0.00134 |Centroid = [0.  1.4 1.7 1.7 0.6 1.4]\n",
      "Generation #67   |fitness: 0.00134 |Centroid = [0.  1.4 1.7 1.7 0.6 1.4]\n",
      "Generation #68   |fitness: 0.00134 |Centroid = [0.  0.4 1.7 1.7 0.6 1.4]\n",
      "Generation #69   |fitness: 0.00134 |Centroid = [0.  0.4 1.7 1.7 0.6 1.4]\n",
      "Generation #70   |fitness: 0.00134 |Centroid = [0.  1.4 1.7 1.7 0.6 0.4]\n",
      "Generation #71   |fitness: 0.00134 |Centroid = [1.  0.4 1.7 1.7 1.6 0.4]\n",
      "Generation #72   |fitness: 0.00126 |Centroid = [1.  1.4 0.7 0.7 0.6 0.4]\n",
      "Generation #73   |fitness: 0.00126 |Centroid = [1.  1.4 0.7 0.7 1.6 1.4]\n",
      "Generation #74   |fitness: 0.00126 |Centroid = [1.  1.4 0.7 0.7 1.6 1.4]\n",
      "Generation #75   |fitness: 0.00126 |Centroid = [1.  1.4 0.7 0.7 1.6 1.4]\n",
      "Generation #76   |fitness: 0.00126 |Centroid = [1.  1.4 1.7 0.7 1.6 1.4]\n",
      "Generation #77   |fitness: 0.00134 |Centroid = [1.  0.4 1.7 1.7 1.6 1.4]\n",
      "Generation #78   |fitness: 0.00134 |Centroid = [1.  0.4 1.7 1.7 1.6 1.4]\n",
      "Generation #79   |fitness: 0.00134 |Centroid = [1.  1.4 1.7 1.7 0.6 1.4]\n",
      "Generation #80   |fitness: 0.00134 |Centroid = [1.  1.4 1.7 1.7 0.6 0.4]\n",
      "Generation #81   |fitness: 0.00134 |Centroid = [1.  1.4 1.7 1.7 0.6 0.4]\n",
      "Generation #82   |fitness: 0.00134 |Centroid = [1.  1.4 1.7 1.7 1.6 1.4]\n",
      "Generation #83   |fitness: 0.00134 |Centroid = [0.  1.4 1.7 1.7 0.6 0.4]\n",
      "Generation #84   |fitness: 0.00134 |Centroid = [0.  1.4 1.7 1.7 0.6 0.4]\n",
      "Generation #85   |fitness: 0.00134 |Centroid = [0.  1.4 1.7 1.7 0.6 1.4]\n",
      "Generation #86   |fitness: 0.00134 |Centroid = [0.  1.4 1.7 1.7 0.6 1.4]\n",
      "Generation #87   |fitness: 0.00134 |Centroid = [0.  1.4 1.7 1.7 0.6 1.4]\n",
      "Generation #88   |fitness: 0.00134 |Centroid = [0.  1.4 1.7 1.7 1.6 1.4]\n",
      "Generation #89   |fitness: 0.00134 |Centroid = [1.  1.4 1.7 1.7 1.6 1.4]\n",
      "Generation #90   |fitness: 0.00134 |Centroid = [0.  0.4 1.7 1.7 0.6 0.4]\n",
      "Generation #91   |fitness: 0.00134 |Centroid = [0.  1.4 1.7 1.7 0.6 0.4]\n",
      "Generation #92   |fitness: 0.00134 |Centroid = [0.  1.4 1.7 1.7 1.6 1.4]\n",
      "Generation #93   |fitness: 0.00134 |Centroid = [0.  0.4 1.7 1.7 1.6 0.4]\n",
      "Generation #94   |fitness: 0.00134 |Centroid = [0.  1.4 1.7 1.7 1.6 1.4]\n",
      "Generation #95   |fitness: 0.00134 |Centroid = [0.  1.4 1.7 1.7 1.6 1.4]\n",
      "Generation #96   |fitness: 0.00134 |Centroid = [0.  0.4 1.7 1.7 0.6 0.4]\n",
      "Generation #97   |fitness: 0.00134 |Centroid = [0.  1.4 1.7 1.7 0.6 1.4]\n",
      "Generation #98   |fitness: 0.00134 |Centroid = [0.  0.4 1.7 1.7 1.6 1.4]\n",
      "Generation #99   |fitness: 0.00134 |Centroid = [0.  1.4 1.7 1.7 0.6 0.4]\n",
      "====================================================================\n",
      "Maximum fitness is: 0.00138 at Generation: 0\n"
     ]
    }
   ],
   "source": [
    "_, plot_result, _, _ = gag.GeneticAlgorithm(gag.fitness_func,k,100)"
   ]
  },
  {
   "cell_type": "code",
   "execution_count": 48,
   "metadata": {},
   "outputs": [
    {
     "data": {
      "image/png": "[encoded data removed]",
      "text/plain": [
       "<Figure size 432x288 with 1 Axes>"
      ]
     },
     "metadata": {
      "needs_background": "light"
     },
     "output_type": "display_data"
    }
   ],
   "source": [
    "gag.display_plot(plot_result)"
   ]
  },
  {
   "cell_type": "code",
   "execution_count": 49,
   "metadata": {},
   "outputs": [
    {
     "name": "stdout",
     "output_type": "stream",
     "text": [
      "Fitness value of K-Means output is: 0.00028\n"
     ]
    }
   ],
   "source": [
    "def kmean_data(data):\n",
    "    l = []\n",
    "    for el in data:\n",
    "        l2 = []\n",
    "        l2.append(el[0][0])\n",
    "        l2.append(el[1][0])\n",
    "        l.append(numpy.array(l2))\n",
    "\n",
    "    return numpy.array(l)\n",
    "\n",
    "model = kmeans.KMeans(k)\n",
    "data1 = kmean_data(gy.raw_data())\n",
    "model.fit(data1)\n",
    "output = numpy.array([model.to__solution()])\n",
    "print(f'Fitness value of K-Means output is: {gag.fitness_func(output)[0]:0.5f}')"
   ]
  }
 ],
 "metadata": {
  "kernelspec": {
   "display_name": "Python 3.10.1 64-bit",
   "language": "python",
   "name": "python3"
  },
  "language_info": {
   "codemirror_mode": {
    "name": "ipython",
    "version": 3
   },
   "file_extension": ".py",
   "mimetype": "text/x-python",
   "name": "python",
   "nbconvert_exporter": "python",
   "pygments_lexer": "ipython3",
   "version": "3.10.1"
  },
  "orig_nbformat": 4,
  "vscode": {
   "interpreter": {
    "hash": "ff4605b7fc6945e63735c4f9a7148da6cf6da39f2d7f6fbbf9d3935e14505729"
   }
  }
 },
 "nbformat": 4,
 "nbformat_minor": 2
}
