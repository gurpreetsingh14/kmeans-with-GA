{
 "cells": [
  {
   "cell_type": "markdown",
   "metadata": {},
   "source": [
    "**Data Generation for K-Means Clustering Technique**"
   ]
  },
  {
   "cell_type": "code",
   "execution_count": 2,
   "metadata": {},
   "outputs": [],
   "source": [
    "# libraries\n",
    "import numpy\n",
    "import matplotlib.pyplot"
   ]
  },
  {
   "cell_type": "code",
   "execution_count": 19,
   "metadata": {},
   "outputs": [
    {
     "data": {
      "image/png": "[encoded data removed]",
      "text/plain": [
       "<Figure size 432x288 with 1 Axes>"
      ]
     },
     "metadata": {
      "needs_background": "light"
     },
     "output_type": "display_data"
    }
   ],
   "source": [
    "cluster1_num_samples = 10\n",
    "cluster1_x1_start = 0\n",
    "cluster1_x1_end = 5\n",
    "cluster1_x2_start = 2\n",
    "cluster1_x2_end = 6\n",
    "cluster1_x1 = numpy.random.random(size=(cluster1_num_samples))\n",
    "cluster1_x1 = cluster1_x1 * (cluster1_x1_end - cluster1_x1_start) + cluster1_x1_start\n",
    "cluster1_x2 = numpy.random.random(size=(cluster1_num_samples))\n",
    "cluster1_x2 = cluster1_x2 * (cluster1_x2_end - cluster1_x2_start) + cluster1_x2_start\n",
    "\n",
    "cluster2_num_samples = 10\n",
    "cluster2_x1_start = 10\n",
    "cluster2_x1_end = 15\n",
    "cluster2_x2_start = 8\n",
    "cluster2_x2_end = 12\n",
    "cluster2_x1 = numpy.random.random(size=(cluster2_num_samples))\n",
    "cluster2_x1 = cluster2_x1 * (cluster2_x1_end - cluster2_x1_start) + cluster2_x1_start\n",
    "cluster2_x2 = numpy.random.random(size=(cluster2_num_samples))\n",
    "cluster2_x2 = cluster2_x2 * (cluster2_x2_end - cluster2_x2_start) + cluster2_x2_start\n",
    "\n",
    "cluster3_num_samples = 10\n",
    "cluster3_x1_start = 25\n",
    "cluster3_x1_end = 30\n",
    "cluster3_x2_start = 24\n",
    "cluster3_x2_end = 28\n",
    "cluster3_x1 = numpy.random.random(size=(cluster3_num_samples))\n",
    "cluster3_x1 = cluster3_x1 * (cluster3_x1_end - cluster3_x1_start) + cluster3_x1_start\n",
    "cluster3_x2 = numpy.random.random(size=(cluster3_num_samples))\n",
    "cluster3_x2 = cluster3_x2 * (cluster3_x2_end - cluster3_x2_start) + cluster3_x2_start\n",
    "\n",
    "matplotlib.pyplot.scatter(cluster1_x1, cluster1_x2)\n",
    "matplotlib.pyplot.scatter(cluster2_x1, cluster2_x2)\n",
    "matplotlib.pyplot.scatter(cluster3_x1, cluster3_x2)\n",
    "\n",
    "matplotlib.pyplot.show()"
   ]
  },
  {
   "cell_type": "code",
   "execution_count": 30,
   "metadata": {},
   "outputs": [],
   "source": [
    "def data_generation(num_of_samples, X_Cooridinate_Start, X_Cooridinate_End, Y_Cooridinate_Start, Y_Cooridinate_End):\n",
    "    cluster_X = numpy.random.random(size=(num_of_samples))\n",
    "    cluster_X = cluster_X * (X_Cooridinate_End - X_Cooridinate_Start) + X_Cooridinate_Start\n",
    "    cluster_Y = numpy.random.random(size=(num_of_samples))\n",
    "    cluster_Y = cluster_Y * (Y_Cooridinate_End - Y_Cooridinate_Start) + Y_Cooridinate_Start\n",
    "    return cluster_X, cluster_Y"
   ]
  },
  {
   "cell_type": "code",
   "execution_count": 32,
   "metadata": {},
   "outputs": [],
   "source": [
    "def k_plot_data(no_of_cluster):\n",
    "    if no_of_cluster == 2:\n",
    "        matplotlib.pyplot.scatter(data_generation(10,0,5,2,6)[0],data_generation(10,0,5,2,6)[1])\n",
    "        matplotlib.pyplot.scatter(data_generation(10,10,15,8,12)[0],data_generation(10,10,15,8,12)[1])\n",
    "    elif no_of_cluster == 3:\n",
    "        matplotlib.pyplot.scatter(data_generation(10,0,5,2,6)[0],data_generation(10,0,5,2,6)[1])\n",
    "        matplotlib.pyplot.scatter(data_generation(10,10,15,8,12)[0],data_generation(10,10,15,8,12)[1])\n",
    "        matplotlib.pyplot.scatter(data_generation(10,25,30,24,28)[0],data_generation(10,25,30,24,28)[1])\n",
    "    elif no_of_cluster == 4:\n",
    "        matplotlib.pyplot.scatter(data_generation(10,0,5,2,6)[0],data_generation(10,0,5,2,6)[1])\n",
    "        matplotlib.pyplot.scatter(data_generation(10,10,15,8,12)[0],data_generation(10,10,15,8,12)[1])\n",
    "        matplotlib.pyplot.scatter(data_generation(10,25,30,24,28)[0],data_generation(10,25,30,24,28)[1])\n",
    "        matplotlib.pyplot.scatter(data_generation(10,40,45,42,46)[0],data_generation(10,40,45,42,46)[1])\n",
    "    else:\n",
    "        return \"Out of Scope\"\n",
    "    \n",
    "    return matplotlib.pyplot.show()"
   ]
  },
  {
   "cell_type": "code",
   "execution_count": 36,
   "metadata": {},
   "outputs": [
    {
     "data": {
      "text/plain": [
       "'Out of Scope'"
      ]
     },
     "execution_count": 36,
     "metadata": {},
     "output_type": "execute_result"
    }
   ],
   "source": [
    "k_plot_data(5)"
   ]
  }
 ],
 "metadata": {
  "kernelspec": {
   "display_name": "Python 3.10.1 64-bit",
   "language": "python",
   "name": "python3"
  },
  "language_info": {
   "codemirror_mode": {
    "name": "ipython",
    "version": 3
   },
   "file_extension": ".py",
   "mimetype": "text/x-python",
   "name": "python",
   "nbconvert_exporter": "python",
   "pygments_lexer": "ipython3",
   "version": "3.10.1"
  },
  "orig_nbformat": 4,
  "vscode": {
   "interpreter": {
    "hash": "ff4605b7fc6945e63735c4f9a7148da6cf6da39f2d7f6fbbf9d3935e14505729"
   }
  }
 },
 "nbformat": 4,
 "nbformat_minor": 2
}
