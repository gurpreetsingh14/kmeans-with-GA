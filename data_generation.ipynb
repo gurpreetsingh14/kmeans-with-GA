{
 "cells": [
  {
   "cell_type": "markdown",
   "metadata": {},
   "source": [
    "**Data Generation for K-Means Clustering Technique**"
   ]
  },
  {
   "cell_type": "code",
   "execution_count": 115,
   "metadata": {},
   "outputs": [],
   "source": [
    "# libraries\n",
    "import numpy\n",
    "import random\n",
    "import matplotlib.pyplot"
   ]
  },
  {
   "cell_type": "code",
   "execution_count": 116,
   "metadata": {},
   "outputs": [],
   "source": [
    "'''\n",
    "'data_generation()' function creates sample coordinates.\n",
    "Inputs:\n",
    "num_of_samples = Number of observations required in a cluster\n",
    "X_Cooridinate_Start = Minimum X-cooridinate of an observation in the cluster\n",
    "X_Cooridinate_End = Maximum X-cooridinate of an observation in the cluster\n",
    "Y_Cooridinate_Start = Minimum Y-cooridinate of an observation in the cluster\n",
    "Y_Cooridinate_End = Maximum Y-cooridinate of an observation in the cluster\n",
    "\n",
    "Return: Two Arraylist each for X-coordinates and Y-coordinates of observations in the cluster\n",
    "'''\n",
    "def data_generation(num_of_samples, \n",
    "                    X_Cooridinate_Start, \n",
    "                    X_Cooridinate_End, \n",
    "                    Y_Cooridinate_Start, \n",
    "                    Y_Cooridinate_End):\n",
    "    cluster_X = numpy.random.random(size=(num_of_samples))\n",
    "    cluster_X = cluster_X * (X_Cooridinate_End - X_Cooridinate_Start) + X_Cooridinate_Start\n",
    "    cluster_Y = numpy.random.random(size=(num_of_samples))\n",
    "    cluster_Y = cluster_Y * (Y_Cooridinate_End - Y_Cooridinate_Start) + Y_Cooridinate_Start\n",
    "    return cluster_X, cluster_Y"
   ]
  },
  {
   "cell_type": "code",
   "execution_count": 117,
   "metadata": {},
   "outputs": [],
   "source": [
    "'''\n",
    "raw_data() function generates cluster of obervations/data-points based on the input of the user\n",
    "clusters_count = Number of clusters\n",
    "\n",
    "Return: A dictionary of cluster.\n",
    "\n",
    "Output example: {'cluster_0': [[<list-of-X-coordinates],[<list-of-Y-coordinates]],\n",
    "          'cluster_1': [[<list-of-X-coordinates],[<list-of-Y-coordinates]],\n",
    "          ..\n",
    "          ..\n",
    "          'cluster_n': [[<list-of-X-coordinates],[<list-of-Y-coordinates]] }\n",
    "'''\n",
    "def raw_data(clusters_count):\n",
    "    cluster_map = {}\n",
    "    input_list = []\n",
    "    for i in range(clusters_count):\n",
    "        input_list.append([random.randint(25,60),random.randint(0,100),random.randint(20,100),random.randint(0,100),random.randint(20,100)])\n",
    "    \n",
    "    for i in range(len(input_list)):\n",
    "        X_coordinate_list = data_generation(input_list[i][0],input_list[i][1],input_list[i][2],\n",
    "                                            input_list[i][3],input_list[i][4])[0]\n",
    "        Y_coordinate_list = data_generation(input_list[i][0],input_list[i][1],input_list[i][2],\n",
    "                                            input_list[i][3],input_list[i][4])[1]\n",
    "        cluster_map[f'cluster_{i}'] = [X_coordinate_list,Y_coordinate_list]\n",
    "    return cluster_map"
   ]
  },
  {
   "cell_type": "code",
   "execution_count": 118,
   "metadata": {},
   "outputs": [],
   "source": [
    "'''\n",
    "'plot_input()' plots the input data on a 2-D plane.\n",
    "input_data = Data provided by the user. It is a dictionary.\n",
    "\n",
    "Return: A 2-D plot\n",
    "'''\n",
    "def plot_input(input_data):\n",
    "    for i in range(len(input_data)):\n",
    "        coordinate_list = input_data[f'cluster_{i}']\n",
    "        matplotlib.pyplot.scatter(coordinate_list[0],\n",
    "                                  coordinate_list[1])\n",
    "\n",
    "    return matplotlib.pyplot.show()"
   ]
  },
  {
   "cell_type": "code",
   "execution_count": 2,
   "metadata": {},
   "outputs": [],
   "source": [
    "import numpy\n",
    "import matplotlib.pyplot"
   ]
  },
  {
   "cell_type": "code",
   "execution_count": 22,
   "metadata": {},
   "outputs": [],
   "source": [
    "cluster1_num_samples = 10\n",
    "cluster1_x1_start = 0\n",
    "cluster1_x1_end = 5\n",
    "cluster1_x2_start = 2\n",
    "cluster1_x2_end = 6\n",
    "cluster1_x1 = numpy.random.random(size=(cluster1_num_samples))\n",
    "cluster1_x1 = cluster1_x1 * (cluster1_x1_end - cluster1_x1_start) + cluster1_x1_start\n",
    "cluster1_x2 = numpy.random.random(size=(cluster1_num_samples))\n",
    "cluster1_x2 = cluster1_x2 * (cluster1_x2_end - cluster1_x2_start) + cluster1_x2_start"
   ]
  },
  {
   "cell_type": "code",
   "execution_count": 23,
   "metadata": {},
   "outputs": [],
   "source": [
    "cluster2_num_samples = 10\n",
    "cluster2_x1_start = 4\n",
    "cluster2_x1_end = 12\n",
    "cluster2_x2_start = 14\n",
    "cluster2_x2_end = 18\n",
    "cluster2_x1 = numpy.random.random(size=(cluster2_num_samples))\n",
    "cluster2_x1 = cluster2_x1 * (cluster2_x1_end - cluster2_x1_start) + cluster2_x1_start\n",
    "cluster2_x2 = numpy.random.random(size=(cluster2_num_samples))\n",
    "cluster2_x2 = cluster2_x2 * (cluster2_x2_end - cluster2_x2_start) + cluster2_x2_start"
   ]
  },
  {
   "cell_type": "code",
   "execution_count": 24,
   "metadata": {},
   "outputs": [],
   "source": [
    "c1 = numpy.array([cluster1_x1, cluster1_x2]).T\n",
    "c2 = numpy.array([cluster2_x1, cluster2_x2]).T\n",
    "\n",
    "data = numpy.concatenate((c1, c2), axis=0)"
   ]
  },
  {
   "cell_type": "code",
   "execution_count": 25,
   "metadata": {},
   "outputs": [],
   "source": [
    "#data\n",
    "# the numpy lists 1st 10 list are X,Y coordinates of cluster 1 points and rest 10 list are \n",
    "# X,Y coordinates of cluster 2 points"
   ]
  },
  {
   "cell_type": "code",
   "execution_count": 36,
   "metadata": {},
   "outputs": [
    {
     "name": "stdout",
     "output_type": "stream",
     "text": [
      "Size of array is: 40 and shape is: (20, 2)\n"
     ]
    }
   ],
   "source": [
    "print(f'Size of array is: {data.size} and shape is: {data.shape}')"
   ]
  },
  {
   "cell_type": "code",
   "execution_count": 13,
   "metadata": {},
   "outputs": [],
   "source": [
    "num_clusters = 2"
   ]
  },
  {
   "cell_type": "markdown",
   "metadata": {},
   "source": [
    "Calculate the Euclidean Distance"
   ]
  },
  {
   "cell_type": "code",
   "execution_count": 15,
   "metadata": {},
   "outputs": [],
   "source": [
    "'''\n",
    "euclidean_distance() accepts 2 inputs X and Y. \n",
    "One of these inputs can be a 2-D array with multiple samples, and the other input should be a 1-D array with just 1 sample. \n",
    "The function calculates and returns the Euclidean distances between each sample in the 2-D array and \n",
    "the single sample in the 1-D array\n",
    "'''\n",
    "def euclidean_distance(X, Y):\n",
    "    return numpy.sqrt(numpy.sum(numpy.power(X - Y, 2), axis=1))"
   ]
  },
  {
   "cell_type": "code",
   "execution_count": 31,
   "metadata": {},
   "outputs": [
    {
     "name": "stdout",
     "output_type": "stream",
     "text": [
      "[ 0.          1.51085321  0.8343162   0.803208    1.67569872  1.31227206\n",
      "  0.5053391   2.01881412  0.54315666  1.77223992 16.14816549 16.19904285\n",
      " 15.47879559 16.10041881 13.80650523 16.33950508 11.53031724 16.3444219\n",
      " 15.44384897 14.27009913]\n"
     ]
    }
   ],
   "source": [
    "d = euclidean_distance(data, data[0])\n",
    "print(d)"
   ]
  },
  {
   "cell_type": "markdown",
   "metadata": {},
   "source": [
    "The result of the euclidean_distance() function is a 1-D array with a number of elements equal to the number of elements in the 2-D array, which is 20 in this example"
   ]
  },
  {
   "cell_type": "code",
   "execution_count": 58,
   "metadata": {},
   "outputs": [],
   "source": [
    "'''\n",
    "Input: \n",
    "1. solution is the initial coordinates of centriods. For example,\n",
    "if num_of_clusters = 2, then\n",
    "solution = [C1-x, C1-y, C2-x, C2-y]\n",
    "2. data is the whole data, all the samples\n",
    "\n",
    "'''\n",
    "\n",
    "def cluster_data(solution):\n",
    "    global num_clusters, data\n",
    "    feature_vector_length = data.shape[1]\n",
    "    cluster_centers = []\n",
    "    all_clusters_dists = []\n",
    "    clusters = []\n",
    "    clusters_sum_dist = []\n",
    "\n",
    "    for clust_idx in range(num_clusters):\n",
    "        cluster_centers.append(solution[feature_vector_length*clust_idx:feature_vector_length*(clust_idx+1)])\n",
    "        cluster_center_dists = euclidean_distance(data, cluster_centers[clust_idx])\n",
    "        all_clusters_dists.append(numpy.array(cluster_center_dists))\n",
    "\n",
    "    cluster_centers = numpy.array(cluster_centers)\n",
    "    all_clusters_dists = numpy.array(all_clusters_dists)\n",
    "\n",
    "    cluster_indices = numpy.argmin(all_clusters_dists, axis=0)\n",
    "    for clust_idx in range(num_clusters):\n",
    "        clusters.append(numpy.where(cluster_indices == clust_idx)[0])\n",
    "        if len(clusters[clust_idx]) == 0:\n",
    "            clusters_sum_dist.append(0)\n",
    "        else:\n",
    "            clusters_sum_dist.append(numpy.sum(all_clusters_dists[clust_idx, clusters[clust_idx]]))\n",
    "\n",
    "    clusters_sum_dist = numpy.array(clusters_sum_dist)\n",
    "\n",
    "    return cluster_centers, all_clusters_dists, clusters, clusters_sum_dist"
   ]
  },
  {
   "cell_type": "code",
   "execution_count": 59,
   "metadata": {},
   "outputs": [],
   "source": [
    "'''\n",
    "fitness_func() is created and calls the cluster_data() function and \n",
    "calculates the sum of distances in all clusters\n",
    "'''\n",
    "def fitness_func(solution):\n",
    "    _, _, _, _, clusters_sum_dist = cluster_data(solution)\n",
    "\n",
    "    fitness = 1.0 / (numpy.sum(clusters_sum_dist) + 0.00000001)\n",
    "\n",
    "    return fitness"
   ]
  },
  {
   "cell_type": "code",
   "execution_count": 82,
   "metadata": {},
   "outputs": [],
   "source": [
    "#GENERATE Initial coordinates for cluster center\n",
    "\n",
    "def init_cluster_center(num_clusters,start_coord,end_coord):\n",
    "    cluster1_num = num_clusters*2\n",
    "    cluster1_x1_start = start_coord\n",
    "    cluster1_x1_end = end_coord\n",
    "    cluster1_x1 = numpy.random.random(size=(cluster1_num))\n",
    "    cluster1_x1 = cluster1_x1 * (cluster1_x1_end - cluster1_x1_start) + cluster1_x1_start\n",
    "    return cluster1_x1\n",
    "# return: numpy array: [C1-x C1-y C2-x C2-y]"
   ]
  },
  {
   "cell_type": "code",
   "execution_count": 78,
   "metadata": {},
   "outputs": [],
   "source": [
    "#SELECTION FUNCTION\n",
    "\n",
    "def selection(pop, sample_size, fitness):\n",
    "    m,n = pop.shape\n",
    "    new_pop = pop.copy()\n",
    "        \n",
    "    for i in range(m):\n",
    "        rand_id = numpy.random.choice(m, size=max(1, int(sample_size*m)), replace=False)\n",
    "        max_id = rand_id[fitness[rand_id].argmax()]\n",
    "        new_pop[i] = pop[max_id].copy()\n",
    "    \n",
    "    return new_pop"
   ]
  },
  {
   "cell_type": "code",
   "execution_count": 79,
   "metadata": {},
   "outputs": [],
   "source": [
    "#CROSSOVER\n",
    "\n",
    "def crossover(pop, pc):\n",
    "    m,n = pop.shape\n",
    "    new_pop = pop.copy()\n",
    "    \n",
    "    for i in range(0, m-1, 2):\n",
    "        if numpy.random.uniform(0, 1) < pc:\n",
    "            pos = numpy.random.randint(0, n-1)\n",
    "            new_pop[i, pos+1:] = pop[i+1, pos+1:].copy()\n",
    "            new_pop[i+1, pos+1:] = pop[i, pos+1:].copy()\n",
    "            \n",
    "    return new_pop"
   ]
  },
  {
   "cell_type": "code",
   "execution_count": 81,
   "metadata": {},
   "outputs": [],
   "source": [
    "#MUTATION\n",
    "\n",
    "def mutation(pop, pm):\n",
    "    m,n = pop.shape\n",
    "    new_pop = pop.copy()\n",
    "    mutation_prob = (numpy.random.uniform(0, 1, size=(m,n)) < pm).astype(int)\n",
    "    return (mutation_prob + new_pop) % 2"
   ]
  },
  {
   "cell_type": "code",
   "execution_count": null,
   "metadata": {},
   "outputs": [],
   "source": [
    "#GENETIC ALGORITHM\n",
    "\n",
    "def GeneticAlgorithm(func, num_clusters,start_coord,end_coord, low, high, \n",
    "                     ps=0.2, pc=1.0, pm=0.1, max_iter=1000, random_state=None):\n",
    "    \n",
    "    numpy.random.seed(random_state)\n",
    "    pop = init_cluster_center(num_clusters,start_coord,end_coord)\n",
    "    fitness = func(pop)\n",
    "    fitness_res = []\n",
    "    i = 0\n",
    "    while i < max_iter:\n",
    "        pop = selection(pop, ps, fitness)\n",
    "        pop = crossover(pop, pc)\n",
    "        pop = mutation(pop, pm)\n",
    "        fitness = func(pop)\n",
    "        fitness_res.append(fitness)\n",
    "        i += 1\n",
    "    \n",
    "    print(f'Generation {i} fitness {fitness:0.4f}')    \n",
    "    print(f'Best fitness: {max(fitness_res):0.4f} at generation {fitness_res.index(max(fitness_res))}')\n",
    "            \n",
    "    return fitness, fitness_res, i, pop"
   ]
  }
 ],
 "metadata": {
  "kernelspec": {
   "display_name": "Python 3.10.1 64-bit",
   "language": "python",
   "name": "python3"
  },
  "language_info": {
   "codemirror_mode": {
    "name": "ipython",
    "version": 3
   },
   "file_extension": ".py",
   "mimetype": "text/x-python",
   "name": "python",
   "nbconvert_exporter": "python",
   "pygments_lexer": "ipython3",
   "version": "3.10.1"
  },
  "orig_nbformat": 4,
  "vscode": {
   "interpreter": {
    "hash": "ff4605b7fc6945e63735c4f9a7148da6cf6da39f2d7f6fbbf9d3935e14505729"
   }
  }
 },
 "nbformat": 4,
 "nbformat_minor": 2
}
