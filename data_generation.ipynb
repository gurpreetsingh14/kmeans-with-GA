{
 "cells": [
  {
   "cell_type": "markdown",
   "metadata": {},
   "source": [
    "**Data Generation for K-Means Clustering Technique**"
   ]
  },
  {
   "cell_type": "code",
   "execution_count": 115,
   "metadata": {},
   "outputs": [],
   "source": [
    "# libraries\n",
    "import numpy\n",
    "import random\n",
    "import matplotlib.pyplot"
   ]
  },
  {
   "cell_type": "code",
   "execution_count": 116,
   "metadata": {},
   "outputs": [],
   "source": [
    "'''\n",
    "'data_generation()' function creates sample coordinates.\n",
    "Inputs:\n",
    "num_of_samples = Number of observations required in a cluster\n",
    "X_Cooridinate_Start = Minimum X-cooridinate of an observation in the cluster\n",
    "X_Cooridinate_End = Maximum X-cooridinate of an observation in the cluster\n",
    "Y_Cooridinate_Start = Minimum Y-cooridinate of an observation in the cluster\n",
    "Y_Cooridinate_End = Maximum Y-cooridinate of an observation in the cluster\n",
    "\n",
    "Return: Two Arraylist each for X-coordinates and Y-coordinates of observations in the cluster\n",
    "'''\n",
    "def data_generation(num_of_samples, \n",
    "                    X_Cooridinate_Start, \n",
    "                    X_Cooridinate_End, \n",
    "                    Y_Cooridinate_Start, \n",
    "                    Y_Cooridinate_End):\n",
    "    cluster_X = numpy.random.random(size=(num_of_samples))\n",
    "    cluster_X = cluster_X * (X_Cooridinate_End - X_Cooridinate_Start) + X_Cooridinate_Start\n",
    "    cluster_Y = numpy.random.random(size=(num_of_samples))\n",
    "    cluster_Y = cluster_Y * (Y_Cooridinate_End - Y_Cooridinate_Start) + Y_Cooridinate_Start\n",
    "    return cluster_X, cluster_Y"
   ]
  },
  {
   "cell_type": "code",
   "execution_count": 117,
   "metadata": {},
   "outputs": [],
   "source": [
    "'''\n",
    "raw_data() function generates cluster of obervations/data-points based on the input of the user\n",
    "clusters_count = Number of clusters\n",
    "\n",
    "Return: A dictionary of cluster.\n",
    "\n",
    "Output example: {'cluster_0': [[<list-of-X-coordinates],[<list-of-Y-coordinates]],\n",
    "          'cluster_1': [[<list-of-X-coordinates],[<list-of-Y-coordinates]],\n",
    "          ..\n",
    "          ..\n",
    "          'cluster_n': [[<list-of-X-coordinates],[<list-of-Y-coordinates]] }\n",
    "'''\n",
    "def raw_data(clusters_count):\n",
    "    cluster_map = {}\n",
    "    input_list = []\n",
    "    for i in range(clusters_count):\n",
    "        input_list.append([random.randint(25,60),random.randint(0,100),random.randint(20,100),random.randint(0,100),random.randint(20,100)])\n",
    "    \n",
    "    for i in range(len(input_list)):\n",
    "        X_coordinate_list = data_generation(input_list[i][0],input_list[i][1],input_list[i][2],\n",
    "                                            input_list[i][3],input_list[i][4])[0]\n",
    "        Y_coordinate_list = data_generation(input_list[i][0],input_list[i][1],input_list[i][2],\n",
    "                                            input_list[i][3],input_list[i][4])[1]\n",
    "        cluster_map[f'cluster_{i}'] = [X_coordinate_list,Y_coordinate_list]\n",
    "    return cluster_map"
   ]
  },
  {
   "cell_type": "code",
   "execution_count": 118,
   "metadata": {},
   "outputs": [],
   "source": [
    "'''\n",
    "'plot_input()' plots the input data on a 2-D plane.\n",
    "input_data = Data provided by the user. It is a dictionary.\n",
    "\n",
    "Return: A 2-D plot\n",
    "'''\n",
    "def plot_input(input_data):\n",
    "    for i in range(len(input_data)):\n",
    "        coordinate_list = input_data[f'cluster_{i}']\n",
    "        matplotlib.pyplot.scatter(coordinate_list[0],\n",
    "                                  coordinate_list[1])\n",
    "\n",
    "    return matplotlib.pyplot.show()"
   ]
  }
 ],
 "metadata": {
  "kernelspec": {
   "display_name": "Python 3.10.1 64-bit",
   "language": "python",
   "name": "python3"
  },
  "language_info": {
   "codemirror_mode": {
    "name": "ipython",
    "version": 3
   },
   "file_extension": ".py",
   "mimetype": "text/x-python",
   "name": "python",
   "nbconvert_exporter": "python",
   "pygments_lexer": "ipython3",
   "version": "3.10.1"
  },
  "orig_nbformat": 4,
  "vscode": {
   "interpreter": {
    "hash": "ff4605b7fc6945e63735c4f9a7148da6cf6da39f2d7f6fbbf9d3935e14505729"
   }
  }
 },
 "nbformat": 4,
 "nbformat_minor": 2
}
