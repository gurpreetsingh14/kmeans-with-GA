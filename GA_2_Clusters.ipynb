{
 "cells": [
  {
   "cell_type": "markdown",
   "metadata": {},
   "source": [
    "**Genetic Algorithm Implementation for 2-Clusters**"
   ]
  },
  {
   "cell_type": "code",
   "execution_count": 52,
   "metadata": {},
   "outputs": [],
   "source": [
    "#Import Libraries\n",
    "import numpy\n",
    "import matplotlib.pyplot as plt\n",
    "from generate_data_class import GenerateData\n",
    "import kmeans"
   ]
  },
  {
   "cell_type": "code",
   "execution_count": 53,
   "metadata": {},
   "outputs": [],
   "source": [
    "#Set Constant Variables\n",
    "num_clusters = 2\n",
    "gy = GenerateData(num_clusters)"
   ]
  },
  {
   "cell_type": "code",
   "execution_count": 54,
   "metadata": {},
   "outputs": [],
   "source": [
    "'''\n",
    "Input: \n",
    "1. solution is the initial coordinates of centriods. For example,\n",
    "if num_of_clusters = 2, then\n",
    "solution = [C1-x, C1-y, C2-x, C2-y]\n",
    "2. data is the whole data, all the samples\n",
    "\n",
    "'''\n",
    "data = gy.raw_data()\n",
    "def cluster_data(solution):\n",
    "    global num_clusters, data\n",
    "    feature_vector_length = data.shape[1]\n",
    "    cluster_centers = []\n",
    "    all_clusters_dists = []\n",
    "    clusters = []\n",
    "    clusters_sum_dist = []\n",
    "\n",
    "    for clust_idx in range(num_clusters):\n",
    "        cluster_centers.append(solution[feature_vector_length*clust_idx:feature_vector_length*(clust_idx+1)])\n",
    "        cluster_center_dists = kmeans.euclidean(data, cluster_centers[clust_idx])\n",
    "        all_clusters_dists.append(numpy.array(cluster_center_dists))\n",
    "\n",
    "    cluster_centers = numpy.array(cluster_centers)\n",
    "    all_clusters_dists = numpy.array(all_clusters_dists)\n",
    "\n",
    "    cluster_indices = numpy.argmin(all_clusters_dists, axis=0)\n",
    "    for clust_idx in range(num_clusters):\n",
    "        clusters.append(numpy.where(cluster_indices == clust_idx)[0])\n",
    "        if len(clusters[clust_idx]) == 0:\n",
    "            clusters_sum_dist.append(0)\n",
    "        else:\n",
    "            clusters_sum_dist.append(numpy.sum(all_clusters_dists[clust_idx, clusters[clust_idx]]))\n",
    "\n",
    "    clusters_sum_dist = numpy.array(clusters_sum_dist)\n",
    "\n",
    "    return cluster_centers, all_clusters_dists, clusters, clusters_sum_dist"
   ]
  },
  {
   "cell_type": "code",
   "execution_count": 55,
   "metadata": {},
   "outputs": [],
   "source": [
    "#fitness function\n",
    "'''\n",
    "fitness_func() is created and calls the cluster_data() function and \n",
    "calculates the sum of distances in all clusters\n",
    "'''\n",
    "def fitness_func(solution):\n",
    "    fit_list = []\n",
    "    m,_ = solution.shape\n",
    "    for t in range(m):\n",
    "        _, _, _, clusters_sum_dist = cluster_data(solution[t])\n",
    "        fitness = 1.0 / (numpy.sum(clusters_sum_dist) + 0.00000001)\n",
    "        fit_list.append(fitness)\n",
    "\n",
    "    return numpy.array(fit_list)"
   ]
  },
  {
   "cell_type": "code",
   "execution_count": 56,
   "metadata": {},
   "outputs": [],
   "source": [
    "#GENERATE Initial coordinates for cluster center\n",
    "\n",
    "def init_cluster_center():\n",
    "    io = []\n",
    "    #rc = [1.1, 1.2, 1.3, 1.4, 1.5, 1.6, 1.7, 1.8, 1.9]\n",
    "    rc = [2, 3, 4, 5, 6, 7, 8, 8.1, 8.9]\n",
    "    cluster1_x1 = numpy.array([2, 3, 9, 15])\n",
    "    io.append(cluster1_x1)\n",
    "    for y in range(len(rc)):\n",
    "        ui = rc[y]*cluster1_x1\n",
    "        io.append(ui)\n",
    "    return numpy.array(io)"
   ]
  },
  {
   "cell_type": "markdown",
   "metadata": {},
   "source": [
    "GENETIC ALGORITHM\n",
    "- Selection\n",
    "- Crossover\n",
    "- Mutation"
   ]
  },
  {
   "cell_type": "code",
   "execution_count": 57,
   "metadata": {},
   "outputs": [],
   "source": [
    "#Print Result\n",
    "def get_results(generation,population,fitness):\n",
    "    m = population.shape[0]\n",
    "    best = [fitness.max()]\n",
    "    index = numpy.where(numpy.isclose(fitness, best))\n",
    "    population = numpy.array(population)\n",
    "    print(f'Generation #{generation}   |fitness: {max(fitness):0.5f} |Centroid = {population[index[0]][0]}')"
   ]
  },
  {
   "cell_type": "code",
   "execution_count": 58,
   "metadata": {},
   "outputs": [],
   "source": [
    "#Plot Fitness Values over generations\n",
    "def display_plot(best):\n",
    "    plt.plot(best, color='c')\n",
    "    plt.xlabel('Iteration')\n",
    "    plt.ylabel('Best Fitness')\n",
    "    plt.grid()\n",
    "    plt.show()"
   ]
  },
  {
   "cell_type": "code",
   "execution_count": 59,
   "metadata": {},
   "outputs": [],
   "source": [
    "#Selection\n",
    "def selection(pop,sample_size, fitness):\n",
    "    m,n = pop.shape\n",
    "    new_pop = pop.copy()\n",
    "        \n",
    "    for i in range(m):\n",
    "        rand_id = numpy.random.choice(m, size=max(1, int(sample_size*m)), replace=False)\n",
    "        max_id = rand_id[fitness[rand_id].argmax()]\n",
    "        new_pop[i] = pop[max_id].copy()\n",
    "    \n",
    "    return new_pop\n",
    "\n",
    "#Crossover\n",
    "def crossover(pop, pc):\n",
    "    m,n = pop.shape\n",
    "    new_pop = pop.copy()\n",
    "    \n",
    "    for i in range(0, m-1, 2):\n",
    "        if numpy.random.uniform(0, 1) < pc:\n",
    "            pos = numpy.random.randint(0, n-1)\n",
    "            new_pop[i, pos+1:] = pop[i+1, pos+1:].copy()\n",
    "            new_pop[i+1, pos+1:] = pop[i, pos+1:].copy()\n",
    "            \n",
    "    return new_pop\n",
    "\n",
    "#Mutation\n",
    "def mutation(pop, pm):\n",
    "    m,n = pop.shape\n",
    "    new_pop = pop.copy()\n",
    "    mutation_prob = (numpy.random.uniform(0, 1, size=(m,n)) < pm).astype(int)\n",
    "    return (mutation_prob + new_pop)\n",
    "\n",
    "#GENETIC ALGORITHM\n",
    "\n",
    "def GeneticAlgorithm(func, num_clusters,start_coord,end_coord, \n",
    "                     ps=0.2, pc=1.0, pm=0.1, max_iter=200, random_state=123):\n",
    "    \n",
    "    numpy.random.seed(random_state)\n",
    "    pop = init_cluster_center()\n",
    "    fitness = func(pop)\n",
    "    best = [fitness.max()]    \n",
    "    print('=' * 68)\n",
    "    get_results(-1,pop,fitness)\n",
    "    i = 0\n",
    "    while i < max_iter:\n",
    "        pop = selection(pop, ps, fitness)\n",
    "        pop = crossover(pop, pc)\n",
    "        pop = mutation(pop, pm)\n",
    "        fitness = func(pop)\n",
    "        best.append(fitness.max())\n",
    "        get_results(i,pop,fitness)\n",
    "        i += 1\n",
    "        \n",
    "    return fitness, best, i, pop\n",
    "    "
   ]
  },
  {
   "cell_type": "markdown",
   "metadata": {},
   "source": [
    "*Testing*"
   ]
  },
  {
   "cell_type": "code",
   "execution_count": 60,
   "metadata": {},
   "outputs": [
    {
     "name": "stdout",
     "output_type": "stream",
     "text": [
      "====================================================================\n",
      "Generation #-1   |fitness: 0.00284 |Centroid = [ 2.  3.  9. 15.]\n",
      "Generation #0   |fitness: 0.00171 |Centroid = [  4.   6.  72. 121.]\n",
      "Generation #1   |fitness: 0.00231 |Centroid = [ 4.  7.  9. 15.]\n",
      "Generation #2   |fitness: 0.00245 |Centroid = [ 4.  6. 10. 16.]\n",
      "Generation #3   |fitness: 0.00245 |Centroid = [ 4.  6. 10. 16.]\n",
      "Generation #4   |fitness: 0.00245 |Centroid = [ 4.  6. 10. 16.]\n",
      "Generation #5   |fitness: 0.00233 |Centroid = [ 5.  6. 10. 16.]\n",
      "Generation #6   |fitness: 0.00233 |Centroid = [ 5.  6. 10. 16.]\n",
      "Generation #7   |fitness: 0.00246 |Centroid = [ 5.  6. 10. 15.]\n",
      "Generation #8   |fitness: 0.00239 |Centroid = [ 5.  6. 11. 16.]\n",
      "Generation #9   |fitness: 0.00246 |Centroid = [ 5.  6. 10. 15.]\n",
      "Generation #10   |fitness: 0.00246 |Centroid = [ 5.  6. 10. 15.]\n",
      "Generation #11   |fitness: 0.00246 |Centroid = [ 5.  6. 10. 15.]\n",
      "Generation #12   |fitness: 0.00256 |Centroid = [ 5.  6. 12. 15.]\n",
      "Generation #13   |fitness: 0.00256 |Centroid = [ 5.  6. 12. 15.]\n",
      "Generation #14   |fitness: 0.00256 |Centroid = [ 5.  6. 12. 15.]\n",
      "Generation #15   |fitness: 0.00256 |Centroid = [ 5.  6. 12. 15.]\n",
      "Generation #16   |fitness: 0.00256 |Centroid = [ 5.  6. 12. 15.]\n",
      "Generation #17   |fitness: 0.00256 |Centroid = [ 5.  6. 12. 15.]\n",
      "Generation #18   |fitness: 0.00256 |Centroid = [ 5.  6. 12. 15.]\n",
      "Generation #19   |fitness: 0.00256 |Centroid = [ 5.  6. 12. 15.]\n",
      "Generation #20   |fitness: 0.00256 |Centroid = [ 5.  6. 12. 15.]\n",
      "Generation #21   |fitness: 0.00256 |Centroid = [ 5.  6. 12. 15.]\n",
      "Generation #22   |fitness: 0.00256 |Centroid = [ 5.  6. 12. 15.]\n",
      "Generation #23   |fitness: 0.00256 |Centroid = [ 5.  6. 12. 15.]\n",
      "Generation #24   |fitness: 0.00256 |Centroid = [ 5.  6. 12. 15.]\n",
      "Generation #25   |fitness: 0.00256 |Centroid = [ 5.  6. 12. 15.]\n",
      "Generation #26   |fitness: 0.00256 |Centroid = [ 5.  6. 12. 15.]\n",
      "Generation #27   |fitness: 0.00256 |Centroid = [ 5.  6. 12. 15.]\n",
      "Generation #28   |fitness: 0.00256 |Centroid = [ 5.  6. 12. 15.]\n",
      "Generation #29   |fitness: 0.00256 |Centroid = [ 5.  6. 12. 15.]\n",
      "Generation #30   |fitness: 0.00256 |Centroid = [ 5.  6. 12. 15.]\n",
      "Generation #31   |fitness: 0.00256 |Centroid = [ 5.  6. 12. 15.]\n",
      "Generation #32   |fitness: 0.00256 |Centroid = [ 5.  6. 12. 15.]\n",
      "Generation #33   |fitness: 0.00256 |Centroid = [ 5.  6. 12. 15.]\n",
      "Generation #34   |fitness: 0.00256 |Centroid = [ 5.  6. 12. 15.]\n",
      "Generation #35   |fitness: 0.00256 |Centroid = [ 5.  6. 12. 15.]\n",
      "Generation #36   |fitness: 0.00256 |Centroid = [ 5.  6. 12. 15.]\n",
      "Generation #37   |fitness: 0.00256 |Centroid = [ 5.  6. 12. 15.]\n",
      "Generation #38   |fitness: 0.00256 |Centroid = [ 5.  6. 12. 15.]\n",
      "Generation #39   |fitness: 0.00256 |Centroid = [ 5.  6. 12. 15.]\n",
      "Generation #40   |fitness: 0.00256 |Centroid = [ 5.  6. 12. 15.]\n",
      "Generation #41   |fitness: 0.00255 |Centroid = [ 5.  6. 13. 15.]\n",
      "Generation #42   |fitness: 0.00256 |Centroid = [ 5.  6. 12. 15.]\n",
      "Generation #43   |fitness: 0.00256 |Centroid = [ 5.  6. 12. 15.]\n",
      "Generation #44   |fitness: 0.00256 |Centroid = [ 5.  6. 12. 15.]\n",
      "Generation #45   |fitness: 0.00256 |Centroid = [ 5.  6. 12. 15.]\n",
      "Generation #46   |fitness: 0.00256 |Centroid = [ 5.  6. 12. 15.]\n",
      "Generation #47   |fitness: 0.00256 |Centroid = [ 5.  6. 12. 15.]\n",
      "Generation #48   |fitness: 0.00256 |Centroid = [ 5.  6. 12. 15.]\n",
      "Generation #49   |fitness: 0.00256 |Centroid = [ 5.  6. 12. 15.]\n",
      "Generation #50   |fitness: 0.00256 |Centroid = [ 5.  6. 12. 15.]\n",
      "Generation #51   |fitness: 0.00256 |Centroid = [ 5.  6. 12. 15.]\n",
      "Generation #52   |fitness: 0.00256 |Centroid = [ 5.  6. 12. 15.]\n",
      "Generation #53   |fitness: 0.00256 |Centroid = [ 5.  6. 12. 15.]\n",
      "Generation #54   |fitness: 0.00256 |Centroid = [ 5.  6. 12. 15.]\n",
      "Generation #55   |fitness: 0.00256 |Centroid = [ 5.  6. 12. 15.]\n",
      "Generation #56   |fitness: 0.00256 |Centroid = [ 5.  6. 12. 15.]\n",
      "Generation #57   |fitness: 0.00256 |Centroid = [ 5.  6. 12. 15.]\n",
      "Generation #58   |fitness: 0.00256 |Centroid = [ 5.  6. 12. 15.]\n",
      "Generation #59   |fitness: 0.00256 |Centroid = [ 5.  6. 12. 15.]\n",
      "Generation #60   |fitness: 0.00256 |Centroid = [ 5.  6. 12. 15.]\n",
      "Generation #61   |fitness: 0.00256 |Centroid = [ 5.  6. 12. 15.]\n",
      "Generation #62   |fitness: 0.00256 |Centroid = [ 5.  6. 12. 15.]\n",
      "Generation #63   |fitness: 0.00256 |Centroid = [ 5.  6. 12. 15.]\n",
      "Generation #64   |fitness: 0.00256 |Centroid = [ 5.  6. 12. 15.]\n",
      "Generation #65   |fitness: 0.00256 |Centroid = [ 5.  6. 12. 15.]\n",
      "Generation #66   |fitness: 0.00256 |Centroid = [ 5.  6. 12. 15.]\n",
      "Generation #67   |fitness: 0.00256 |Centroid = [ 5.  6. 12. 15.]\n",
      "Generation #68   |fitness: 0.00256 |Centroid = [ 5.  6. 12. 15.]\n",
      "Generation #69   |fitness: 0.00256 |Centroid = [ 5.  6. 12. 15.]\n",
      "Generation #70   |fitness: 0.00256 |Centroid = [ 5.  6. 12. 15.]\n",
      "Generation #71   |fitness: 0.00256 |Centroid = [ 5.  6. 12. 15.]\n",
      "Generation #72   |fitness: 0.00256 |Centroid = [ 5.  6. 12. 15.]\n",
      "Generation #73   |fitness: 0.00256 |Centroid = [ 5.  6. 12. 15.]\n",
      "Generation #74   |fitness: 0.00256 |Centroid = [ 5.  6. 12. 15.]\n",
      "Generation #75   |fitness: 0.00256 |Centroid = [ 5.  6. 12. 15.]\n",
      "Generation #76   |fitness: 0.00256 |Centroid = [ 5.  6. 12. 15.]\n",
      "Generation #77   |fitness: 0.00256 |Centroid = [ 5.  6. 12. 15.]\n",
      "Generation #78   |fitness: 0.00256 |Centroid = [ 5.  6. 12. 15.]\n",
      "Generation #79   |fitness: 0.00256 |Centroid = [ 5.  6. 12. 15.]\n",
      "Generation #80   |fitness: 0.00256 |Centroid = [ 5.  6. 12. 15.]\n",
      "Generation #81   |fitness: 0.00256 |Centroid = [ 5.  6. 12. 15.]\n",
      "Generation #82   |fitness: 0.00256 |Centroid = [ 5.  6. 12. 15.]\n",
      "Generation #83   |fitness: 0.00256 |Centroid = [ 5.  6. 12. 15.]\n",
      "Generation #84   |fitness: 0.00256 |Centroid = [ 5.  6. 12. 15.]\n",
      "Generation #85   |fitness: 0.00256 |Centroid = [ 5.  6. 12. 15.]\n",
      "Generation #86   |fitness: 0.00256 |Centroid = [ 5.  6. 12. 15.]\n",
      "Generation #87   |fitness: 0.00256 |Centroid = [ 5.  6. 12. 15.]\n",
      "Generation #88   |fitness: 0.00256 |Centroid = [ 5.  6. 12. 15.]\n",
      "Generation #89   |fitness: 0.00256 |Centroid = [ 5.  6. 12. 15.]\n",
      "Generation #90   |fitness: 0.00256 |Centroid = [ 5.  6. 12. 15.]\n",
      "Generation #91   |fitness: 0.00256 |Centroid = [ 5.  6. 12. 15.]\n",
      "Generation #92   |fitness: 0.00256 |Centroid = [ 5.  6. 12. 15.]\n",
      "Generation #93   |fitness: 0.00256 |Centroid = [ 5.  6. 12. 15.]\n",
      "Generation #94   |fitness: 0.00256 |Centroid = [ 5.  6. 12. 15.]\n",
      "Generation #95   |fitness: 0.00256 |Centroid = [ 5.  6. 12. 15.]\n",
      "Generation #96   |fitness: 0.00256 |Centroid = [ 5.  6. 12. 15.]\n",
      "Generation #97   |fitness: 0.00256 |Centroid = [ 5.  6. 12. 15.]\n",
      "Generation #98   |fitness: 0.00256 |Centroid = [ 5.  6. 12. 15.]\n",
      "Generation #99   |fitness: 0.00256 |Centroid = [ 5.  6. 12. 15.]\n",
      "Generation #100   |fitness: 0.00256 |Centroid = [ 5.  6. 12. 15.]\n",
      "Generation #101   |fitness: 0.00256 |Centroid = [ 5.  6. 12. 15.]\n",
      "Generation #102   |fitness: 0.00256 |Centroid = [ 5.  6. 12. 15.]\n",
      "Generation #103   |fitness: 0.00256 |Centroid = [ 5.  6. 12. 15.]\n",
      "Generation #104   |fitness: 0.00256 |Centroid = [ 5.  6. 12. 15.]\n",
      "Generation #105   |fitness: 0.00256 |Centroid = [ 5.  6. 12. 15.]\n",
      "Generation #106   |fitness: 0.00256 |Centroid = [ 5.  6. 12. 15.]\n",
      "Generation #107   |fitness: 0.00256 |Centroid = [ 5.  6. 12. 15.]\n",
      "Generation #108   |fitness: 0.00256 |Centroid = [ 5.  6. 12. 15.]\n",
      "Generation #109   |fitness: 0.00256 |Centroid = [ 5.  6. 12. 15.]\n",
      "Generation #110   |fitness: 0.00256 |Centroid = [ 5.  6. 12. 15.]\n",
      "Generation #111   |fitness: 0.00256 |Centroid = [ 5.  6. 12. 15.]\n",
      "Generation #112   |fitness: 0.00256 |Centroid = [ 5.  6. 12. 15.]\n",
      "Generation #113   |fitness: 0.00256 |Centroid = [ 5.  6. 12. 15.]\n",
      "Generation #114   |fitness: 0.00256 |Centroid = [ 5.  6. 12. 15.]\n",
      "Generation #115   |fitness: 0.00256 |Centroid = [ 5.  6. 12. 15.]\n",
      "Generation #116   |fitness: 0.00256 |Centroid = [ 5.  6. 12. 15.]\n",
      "Generation #117   |fitness: 0.00256 |Centroid = [ 5.  6. 12. 15.]\n",
      "Generation #118   |fitness: 0.00256 |Centroid = [ 5.  6. 12. 15.]\n",
      "Generation #119   |fitness: 0.00256 |Centroid = [ 5.  6. 12. 15.]\n",
      "Generation #120   |fitness: 0.00256 |Centroid = [ 5.  6. 12. 15.]\n",
      "Generation #121   |fitness: 0.00256 |Centroid = [ 5.  6. 12. 15.]\n",
      "Generation #122   |fitness: 0.00256 |Centroid = [ 5.  6. 12. 15.]\n",
      "Generation #123   |fitness: 0.00256 |Centroid = [ 5.  6. 12. 15.]\n",
      "Generation #124   |fitness: 0.00256 |Centroid = [ 5.  6. 12. 15.]\n",
      "Generation #125   |fitness: 0.00256 |Centroid = [ 5.  6. 12. 15.]\n",
      "Generation #126   |fitness: 0.00256 |Centroid = [ 5.  6. 12. 15.]\n",
      "Generation #127   |fitness: 0.00256 |Centroid = [ 5.  6. 12. 15.]\n",
      "Generation #128   |fitness: 0.00256 |Centroid = [ 5.  6. 12. 15.]\n",
      "Generation #129   |fitness: 0.00256 |Centroid = [ 5.  6. 12. 15.]\n",
      "Generation #130   |fitness: 0.00256 |Centroid = [ 5.  6. 12. 15.]\n",
      "Generation #131   |fitness: 0.00256 |Centroid = [ 5.  6. 12. 15.]\n",
      "Generation #132   |fitness: 0.00256 |Centroid = [ 5.  6. 12. 15.]\n",
      "Generation #133   |fitness: 0.00256 |Centroid = [ 5.  6. 12. 15.]\n",
      "Generation #134   |fitness: 0.00256 |Centroid = [ 5.  6. 12. 15.]\n",
      "Generation #135   |fitness: 0.00256 |Centroid = [ 5.  6. 12. 15.]\n",
      "Generation #136   |fitness: 0.00256 |Centroid = [ 5.  6. 12. 15.]\n",
      "Generation #137   |fitness: 0.00256 |Centroid = [ 5.  6. 12. 15.]\n",
      "Generation #138   |fitness: 0.00256 |Centroid = [ 5.  6. 12. 15.]\n",
      "Generation #139   |fitness: 0.00256 |Centroid = [ 5.  6. 12. 15.]\n",
      "Generation #140   |fitness: 0.00256 |Centroid = [ 5.  6. 12. 15.]\n",
      "Generation #141   |fitness: 0.00256 |Centroid = [ 5.  6. 12. 15.]\n",
      "Generation #142   |fitness: 0.00256 |Centroid = [ 5.  6. 12. 15.]\n",
      "Generation #143   |fitness: 0.00256 |Centroid = [ 5.  6. 12. 15.]\n",
      "Generation #144   |fitness: 0.00256 |Centroid = [ 5.  6. 12. 15.]\n",
      "Generation #145   |fitness: 0.00256 |Centroid = [ 5.  6. 12. 15.]\n",
      "Generation #146   |fitness: 0.00256 |Centroid = [ 5.  6. 12. 15.]\n",
      "Generation #147   |fitness: 0.00256 |Centroid = [ 5.  6. 12. 15.]\n",
      "Generation #148   |fitness: 0.00256 |Centroid = [ 5.  6. 12. 15.]\n",
      "Generation #149   |fitness: 0.00256 |Centroid = [ 5.  6. 12. 15.]\n",
      "Generation #150   |fitness: 0.00256 |Centroid = [ 5.  6. 12. 15.]\n",
      "Generation #151   |fitness: 0.00256 |Centroid = [ 5.  6. 12. 15.]\n",
      "Generation #152   |fitness: 0.00256 |Centroid = [ 5.  6. 12. 15.]\n",
      "Generation #153   |fitness: 0.00256 |Centroid = [ 5.  6. 12. 15.]\n",
      "Generation #154   |fitness: 0.00256 |Centroid = [ 5.  6. 12. 15.]\n",
      "Generation #155   |fitness: 0.00256 |Centroid = [ 5.  6. 12. 15.]\n",
      "Generation #156   |fitness: 0.00256 |Centroid = [ 5.  6. 12. 15.]\n",
      "Generation #157   |fitness: 0.00256 |Centroid = [ 5.  6. 12. 15.]\n",
      "Generation #158   |fitness: 0.00256 |Centroid = [ 5.  6. 12. 15.]\n",
      "Generation #159   |fitness: 0.00256 |Centroid = [ 5.  6. 12. 15.]\n",
      "Generation #160   |fitness: 0.00256 |Centroid = [ 5.  6. 12. 15.]\n",
      "Generation #161   |fitness: 0.00256 |Centroid = [ 5.  6. 12. 15.]\n",
      "Generation #162   |fitness: 0.00256 |Centroid = [ 5.  6. 12. 15.]\n",
      "Generation #163   |fitness: 0.00256 |Centroid = [ 5.  6. 12. 15.]\n",
      "Generation #164   |fitness: 0.00256 |Centroid = [ 5.  6. 12. 15.]\n",
      "Generation #165   |fitness: 0.00256 |Centroid = [ 5.  6. 12. 15.]\n",
      "Generation #166   |fitness: 0.00256 |Centroid = [ 5.  6. 12. 15.]\n",
      "Generation #167   |fitness: 0.00256 |Centroid = [ 5.  6. 12. 15.]\n",
      "Generation #168   |fitness: 0.00256 |Centroid = [ 5.  6. 12. 15.]\n",
      "Generation #169   |fitness: 0.00256 |Centroid = [ 5.  6. 12. 15.]\n",
      "Generation #170   |fitness: 0.00256 |Centroid = [ 5.  6. 12. 15.]\n",
      "Generation #171   |fitness: 0.00256 |Centroid = [ 5.  6. 12. 15.]\n",
      "Generation #172   |fitness: 0.00256 |Centroid = [ 5.  6. 12. 15.]\n",
      "Generation #173   |fitness: 0.00256 |Centroid = [ 5.  6. 12. 15.]\n",
      "Generation #174   |fitness: 0.00256 |Centroid = [ 5.  6. 12. 15.]\n",
      "Generation #175   |fitness: 0.00256 |Centroid = [ 5.  6. 12. 15.]\n",
      "Generation #176   |fitness: 0.00256 |Centroid = [ 5.  6. 12. 15.]\n",
      "Generation #177   |fitness: 0.00256 |Centroid = [ 5.  6. 12. 15.]\n",
      "Generation #178   |fitness: 0.00256 |Centroid = [ 5.  6. 12. 15.]\n",
      "Generation #179   |fitness: 0.00256 |Centroid = [ 5.  6. 12. 15.]\n",
      "Generation #180   |fitness: 0.00256 |Centroid = [ 5.  6. 12. 15.]\n",
      "Generation #181   |fitness: 0.00256 |Centroid = [ 5.  6. 12. 15.]\n",
      "Generation #182   |fitness: 0.00256 |Centroid = [ 5.  6. 12. 15.]\n",
      "Generation #183   |fitness: 0.00256 |Centroid = [ 5.  6. 12. 15.]\n",
      "Generation #184   |fitness: 0.00256 |Centroid = [ 5.  6. 12. 15.]\n",
      "Generation #185   |fitness: 0.00256 |Centroid = [ 5.  6. 12. 15.]\n",
      "Generation #186   |fitness: 0.00256 |Centroid = [ 5.  6. 12. 15.]\n",
      "Generation #187   |fitness: 0.00256 |Centroid = [ 5.  6. 12. 15.]\n",
      "Generation #188   |fitness: 0.00256 |Centroid = [ 5.  6. 12. 15.]\n",
      "Generation #189   |fitness: 0.00256 |Centroid = [ 5.  6. 12. 15.]\n",
      "Generation #190   |fitness: 0.00256 |Centroid = [ 5.  6. 12. 15.]\n",
      "Generation #191   |fitness: 0.00256 |Centroid = [ 5.  6. 12. 15.]\n",
      "Generation #192   |fitness: 0.00256 |Centroid = [ 5.  6. 12. 15.]\n",
      "Generation #193   |fitness: 0.00256 |Centroid = [ 5.  6. 12. 15.]\n",
      "Generation #194   |fitness: 0.00256 |Centroid = [ 5.  6. 12. 15.]\n",
      "Generation #195   |fitness: 0.00256 |Centroid = [ 5.  6. 12. 15.]\n",
      "Generation #196   |fitness: 0.00256 |Centroid = [ 5.  6. 12. 15.]\n",
      "Generation #197   |fitness: 0.00256 |Centroid = [ 5.  6. 12. 15.]\n",
      "Generation #198   |fitness: 0.00256 |Centroid = [ 5.  6. 12. 15.]\n",
      "Generation #199   |fitness: 0.00256 |Centroid = [ 5.  6. 12. 15.]\n"
     ]
    }
   ],
   "source": [
    "_, plot_result, _, _ = GeneticAlgorithm(fitness_func,2,0,20)"
   ]
  },
  {
   "cell_type": "markdown",
   "metadata": {},
   "source": [
    "*Generate Plot*"
   ]
  },
  {
   "cell_type": "code",
   "execution_count": 61,
   "metadata": {},
   "outputs": [
    {
     "data": {
      "image/png": "[encoded data removed]",
      "text/plain": [
       "<Figure size 432x288 with 1 Axes>"
      ]
     },
     "metadata": {
      "needs_background": "light"
     },
     "output_type": "display_data"
    }
   ],
   "source": [
    "display_plot(plot_result)"
   ]
  },
  {
   "cell_type": "markdown",
   "metadata": {},
   "source": [
    "Calculation K-Means results"
   ]
  },
  {
   "cell_type": "code",
   "execution_count": 62,
   "metadata": {},
   "outputs": [],
   "source": [
    "\n",
    "def kmean_data(data):\n",
    "    l = []\n",
    "    for el in data:\n",
    "        l2 = []\n",
    "        l2.append(el[0][0])\n",
    "        l2.append(el[1][0])\n",
    "        l.append(numpy.array(l2))\n",
    "\n",
    "    return numpy.array(l)"
   ]
  },
  {
   "cell_type": "code",
   "execution_count": 63,
   "metadata": {},
   "outputs": [],
   "source": [
    "model = kmeans.KMeans(num_clusters)\n",
    "data1 = kmean_data(gy.raw_data())\n",
    "model.fit(data1)\n",
    "output = numpy.array([model.to__solution()])\n"
   ]
  },
  {
   "cell_type": "code",
   "execution_count": 64,
   "metadata": {},
   "outputs": [
    {
     "name": "stdout",
     "output_type": "stream",
     "text": [
      "(10, 4)\n",
      "(1, 4)\n"
     ]
    },
    {
     "data": {
      "text/plain": [
       "0.0024832879285280316"
      ]
     },
     "execution_count": 64,
     "metadata": {},
     "output_type": "execute_result"
    }
   ],
   "source": [
    "print(init_cluster_center().shape)\n",
    "print(output.shape)\n",
    "fitness_func(output)[0]"
   ]
  }
 ],
 "metadata": {
  "kernelspec": {
   "display_name": "Python 3.10.1 64-bit",
   "language": "python",
   "name": "python3"
  },
  "language_info": {
   "codemirror_mode": {
    "name": "ipython",
    "version": 3
   },
   "file_extension": ".py",
   "mimetype": "text/x-python",
   "name": "python",
   "nbconvert_exporter": "python",
   "pygments_lexer": "ipython3",
   "version": "3.10.1"
  },
  "orig_nbformat": 4,
  "vscode": {
   "interpreter": {
    "hash": "ff4605b7fc6945e63735c4f9a7148da6cf6da39f2d7f6fbbf9d3935e14505729"
   }
  }
 },
 "nbformat": 4,
 "nbformat_minor": 2
}
