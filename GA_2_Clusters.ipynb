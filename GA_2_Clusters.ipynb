{
 "cells": [
  {
   "cell_type": "markdown",
   "metadata": {},
   "source": [
    "**Genetic Algorithm Implementation for 2-Clusters**"
   ]
  },
  {
   "cell_type": "code",
   "execution_count": 57,
   "metadata": {},
   "outputs": [
    {
     "ename": "ImportError",
     "evalue": "cannot import name 'GenerateData' from 'generate_data_lib' (c:\\Users\\paras\\OneDrive - HEC Montréal\\Documents\\Personal Projects\\kmeans-with-GA\\generate_data_lib.py)",
     "output_type": "error",
     "traceback": [
      "\u001b[1;31m---------------------------------------------------------------------------\u001b[0m",
      "\u001b[1;31mImportError\u001b[0m                               Traceback (most recent call last)",
      "\u001b[1;32m~\\AppData\\Local\\Temp/ipykernel_10852/2313876408.py\u001b[0m in \u001b[0;36m<module>\u001b[1;34m\u001b[0m\n\u001b[0;32m      2\u001b[0m \u001b[1;32mimport\u001b[0m \u001b[0mnumpy\u001b[0m\u001b[1;33m\u001b[0m\u001b[1;33m\u001b[0m\u001b[0m\n\u001b[0;32m      3\u001b[0m \u001b[1;32mimport\u001b[0m \u001b[0mmatplotlib\u001b[0m\u001b[1;33m.\u001b[0m\u001b[0mpyplot\u001b[0m \u001b[1;32mas\u001b[0m \u001b[0mplt\u001b[0m\u001b[1;33m\u001b[0m\u001b[1;33m\u001b[0m\u001b[0m\n\u001b[1;32m----> 4\u001b[1;33m \u001b[1;32mfrom\u001b[0m \u001b[0mgenerate_data_lib\u001b[0m \u001b[1;32mimport\u001b[0m \u001b[0mGenerateData\u001b[0m\u001b[1;33m\u001b[0m\u001b[1;33m\u001b[0m\u001b[0m\n\u001b[0m",
      "\u001b[1;31mImportError\u001b[0m: cannot import name 'GenerateData' from 'generate_data_lib' (c:\\Users\\paras\\OneDrive - HEC Montréal\\Documents\\Personal Projects\\kmeans-with-GA\\generate_data_lib.py)"
     ]
    }
   ],
   "source": [
    "#Import Libraries\n",
    "import numpy\n",
    "import matplotlib.pyplot as plt\n",
    "from generate_data_lib import GenerateData"
   ]
  },
  {
   "cell_type": "code",
   "execution_count": 55,
   "metadata": {},
   "outputs": [],
   "source": [
    "#Set Constant Variables\n",
    "num_clusters = 2"
   ]
  },
  {
   "cell_type": "code",
   "execution_count": 56,
   "metadata": {},
   "outputs": [
    {
     "ename": "NameError",
     "evalue": "name 'data_generation' is not defined",
     "output_type": "error",
     "traceback": [
      "\u001b[1;31m---------------------------------------------------------------------------\u001b[0m",
      "\u001b[1;31mNameError\u001b[0m                                 Traceback (most recent call last)",
      "\u001b[1;32m~\\AppData\\Local\\Temp/ipykernel_10852/755919736.py\u001b[0m in \u001b[0;36m<module>\u001b[1;34m\u001b[0m\n\u001b[0;32m      1\u001b[0m \u001b[0mgy\u001b[0m \u001b[1;33m=\u001b[0m \u001b[0mgenerate_data\u001b[0m\u001b[1;33m(\u001b[0m\u001b[0mnum_clusters\u001b[0m\u001b[1;33m)\u001b[0m\u001b[1;33m\u001b[0m\u001b[1;33m\u001b[0m\u001b[0m\n\u001b[0;32m      2\u001b[0m \u001b[1;33m\u001b[0m\u001b[0m\n\u001b[1;32m----> 3\u001b[1;33m \u001b[0mdata\u001b[0m \u001b[1;33m=\u001b[0m \u001b[0mgy\u001b[0m\u001b[1;33m.\u001b[0m\u001b[0mraw_data\u001b[0m\u001b[1;33m(\u001b[0m\u001b[1;33m)\u001b[0m\u001b[1;33m\u001b[0m\u001b[1;33m\u001b[0m\u001b[0m\n\u001b[0m",
      "\u001b[1;32mc:\\Users\\paras\\OneDrive - HEC Montréal\\Documents\\Personal Projects\\kmeans-with-GA\\generate_data_lib.py\u001b[0m in \u001b[0;36mraw_data\u001b[1;34m(self)\u001b[0m\n\u001b[0;32m     80\u001b[0m \u001b[1;33m\u001b[0m\u001b[0m\n\u001b[0;32m     81\u001b[0m         \u001b[1;32mreturn\u001b[0m \u001b[0mmatplotlib\u001b[0m\u001b[1;33m.\u001b[0m\u001b[0mpyplot\u001b[0m\u001b[1;33m.\u001b[0m\u001b[0mshow\u001b[0m\u001b[1;33m(\u001b[0m\u001b[1;33m)\u001b[0m\u001b[1;33m\u001b[0m\u001b[1;33m\u001b[0m\u001b[0m\n\u001b[1;32m---> 82\u001b[1;33m \u001b[1;33m\u001b[0m\u001b[0m\n\u001b[0m\u001b[0;32m     83\u001b[0m     \"\"\"  def raw_to_standard(self, raw_data):\n\u001b[0;32m     84\u001b[0m         \u001b[0mi\u001b[0m \u001b[1;33m=\u001b[0m \u001b[1;36m0\u001b[0m\u001b[1;33m\u001b[0m\u001b[1;33m\u001b[0m\u001b[0m\n",
      "\u001b[1;31mNameError\u001b[0m: name 'data_generation' is not defined"
     ]
    }
   ],
   "source": [
    "gy = GenerateData(num_clusters)\n",
    "\n",
    "data = gy.raw_data()"
   ]
  },
  {
   "cell_type": "code",
   "execution_count": 3,
   "metadata": {},
   "outputs": [],
   "source": [
    "#Eucliedian Distance\n",
    "'''\n",
    "euclidean_distance() accepts 2 inputs X and Y. \n",
    "One of these inputs can be a 2-D array with multiple samples, and the other input should be a 1-D array with just 1 sample. \n",
    "The function calculates and returns the Euclidean distances between each sample in the 2-D array and \n",
    "the single sample in the 1-D array\n",
    "'''\n",
    "def euclidean_distance(X, Y):\n",
    "    return numpy.sqrt(numpy.sum(numpy.power(X - Y, 2), axis=1))"
   ]
  },
  {
   "cell_type": "code",
   "execution_count": 4,
   "metadata": {},
   "outputs": [],
   "source": [
    "'''\n",
    "Input: \n",
    "1. solution is the initial coordinates of centriods. For example,\n",
    "if num_of_clusters = 2, then\n",
    "solution = [C1-x, C1-y, C2-x, C2-y]\n",
    "2. data is the whole data, all the samples\n",
    "\n",
    "'''\n",
    "\n",
    "def cluster_data(solution):\n",
    "    global num_clusters, data\n",
    "    feature_vector_length = data.shape[1]\n",
    "    cluster_centers = []\n",
    "    all_clusters_dists = []\n",
    "    clusters = []\n",
    "    clusters_sum_dist = []\n",
    "\n",
    "    for clust_idx in range(num_clusters):\n",
    "        cluster_centers.append(solution[feature_vector_length*clust_idx:feature_vector_length*(clust_idx+1)])\n",
    "        cluster_center_dists = euclidean_distance(data, cluster_centers[clust_idx])\n",
    "        all_clusters_dists.append(numpy.array(cluster_center_dists))\n",
    "\n",
    "    cluster_centers = numpy.array(cluster_centers)\n",
    "    all_clusters_dists = numpy.array(all_clusters_dists)\n",
    "\n",
    "    cluster_indices = numpy.argmin(all_clusters_dists, axis=0)\n",
    "    for clust_idx in range(num_clusters):\n",
    "        clusters.append(numpy.where(cluster_indices == clust_idx)[0])\n",
    "        if len(clusters[clust_idx]) == 0:\n",
    "            clusters_sum_dist.append(0)\n",
    "        else:\n",
    "            clusters_sum_dist.append(numpy.sum(all_clusters_dists[clust_idx, clusters[clust_idx]]))\n",
    "\n",
    "    clusters_sum_dist = numpy.array(clusters_sum_dist)\n",
    "\n",
    "    return cluster_centers, all_clusters_dists, clusters, clusters_sum_dist"
   ]
  },
  {
   "cell_type": "code",
   "execution_count": 5,
   "metadata": {},
   "outputs": [],
   "source": [
    "#fitness function\n",
    "'''\n",
    "fitness_func() is created and calls the cluster_data() function and \n",
    "calculates the sum of distances in all clusters\n",
    "'''\n",
    "def fitness_func(solution):\n",
    "    fit_list = []\n",
    "    m,_ = solution.shape\n",
    "    for t in range(m):\n",
    "        _, _, _, clusters_sum_dist = cluster_data(solution[t])\n",
    "        fitness = 1.0 / (numpy.sum(clusters_sum_dist) + 0.00000001)\n",
    "        fit_list.append(fitness)\n",
    "\n",
    "    return numpy.array(fit_list)"
   ]
  },
  {
   "cell_type": "code",
   "execution_count": 6,
   "metadata": {},
   "outputs": [],
   "source": [
    "#GENERATE Initial coordinates for cluster center\n",
    "\n",
    "def init_cluster_center(num_clusters,start_coord,end_coord):\n",
    "    io = []\n",
    "    rc = [1.1, 1.2, 1.3, 1.4, 1.5, 1.6, 1.7, 1.8, 1.9]\n",
    "    \"\"\" cluster1_num = num_clusters*2\n",
    "    cluster1_x1_start = start_coord\n",
    "    cluster1_x1_end = end_coord\n",
    "    cluster1_x1 = numpy.random.random(size=(cluster1_num))\n",
    "    cluster1_x1 = cluster1_x1 * (cluster1_x1_end - cluster1_x1_start) + cluster1_x1_start \"\"\"\n",
    "    cluster1_x1 = numpy.array([2, 3, 9, 15])\n",
    "    io.append(cluster1_x1)\n",
    "    for y in range(len(rc)):\n",
    "        ui = rc[y]*cluster1_x1\n",
    "        io.append(ui)\n",
    "    return numpy.array(io)\n",
    "# return: numpy array: [[C1-x C1-y C2-x C2-y][][][]....]"
   ]
  },
  {
   "cell_type": "markdown",
   "metadata": {},
   "source": [
    "GENETIC ALGORITHM\n",
    "- Selection\n",
    "- Crossover\n",
    "- Mutation"
   ]
  },
  {
   "cell_type": "code",
   "execution_count": 10,
   "metadata": {},
   "outputs": [],
   "source": [
    "#Print Result\n",
    "def get_results(generation,population,fitness):\n",
    "    m = population.shape[0]\n",
    "    best = [fitness.max()]\n",
    "    index = numpy.where(numpy.isclose(fitness, best))\n",
    "    population = numpy.array(population)\n",
    "    print(f'Generation #{generation}   |fitness: {max(fitness):0.5f} |Centroid = {population[index[0]][0]}')"
   ]
  },
  {
   "cell_type": "code",
   "execution_count": 11,
   "metadata": {},
   "outputs": [],
   "source": [
    "#Plot Fitness Values over generations\n",
    "def display_plot(best):\n",
    "    plt.plot(best, color='c')\n",
    "    plt.xlabel('Iteration')\n",
    "    plt.ylabel('Best Fitness')\n",
    "    plt.grid()\n",
    "    plt.show()"
   ]
  },
  {
   "cell_type": "code",
   "execution_count": 12,
   "metadata": {},
   "outputs": [],
   "source": [
    "#Selection\n",
    "def selection(pop,sample_size, fitness):\n",
    "    m,n = pop.shape\n",
    "    new_pop = pop.copy()\n",
    "        \n",
    "    for i in range(m):\n",
    "        rand_id = numpy.random.choice(m, size=max(1, int(sample_size*m)), replace=False)\n",
    "        max_id = rand_id[fitness[rand_id].argmax()]\n",
    "        new_pop[i] = pop[max_id].copy()\n",
    "    \n",
    "    return new_pop\n",
    "\n",
    "#Crossover\n",
    "def crossover(pop, pc):\n",
    "    m,n = pop.shape\n",
    "    new_pop = pop.copy()\n",
    "    \n",
    "    for i in range(0, m-1, 2):\n",
    "        if numpy.random.uniform(0, 1) < pc:\n",
    "            pos = numpy.random.randint(0, n-1)\n",
    "            new_pop[i, pos+1:] = pop[i+1, pos+1:].copy()\n",
    "            new_pop[i+1, pos+1:] = pop[i, pos+1:].copy()\n",
    "            \n",
    "    return new_pop\n",
    "\n",
    "#Mutation\n",
    "def mutation(pop, pm):\n",
    "    m,n = pop.shape\n",
    "    new_pop = pop.copy()\n",
    "    mutation_prob = (numpy.random.uniform(0, 1, size=(m,n)) < pm).astype(int)\n",
    "    return (mutation_prob + new_pop)\n",
    "\n",
    "#GENETIC ALGORITHM\n",
    "\n",
    "def GeneticAlgorithm(func, num_clusters,start_coord,end_coord, \n",
    "                     ps=0.2, pc=1.0, pm=0.1, max_iter=100, random_state=123):\n",
    "    \n",
    "    numpy.random.seed(random_state)\n",
    "    pop = init_cluster_center(num_clusters,start_coord,end_coord)\n",
    "    fitness = func(pop)\n",
    "    best = [fitness.max()]    \n",
    "    print('=' * 68)\n",
    "    get_results(-1,pop,fitness)\n",
    "    i = 0\n",
    "    while i < max_iter:\n",
    "        pop = selection(pop, ps, fitness)\n",
    "        pop = crossover(pop, pc)\n",
    "        pop = mutation(pop, pm)\n",
    "        fitness = func(pop)\n",
    "        best.append(fitness.max())\n",
    "        get_results(i,pop,fitness)\n",
    "        i += 1\n",
    "        \n",
    "    return fitness, best, i, pop\n",
    "    "
   ]
  },
  {
   "cell_type": "markdown",
   "metadata": {},
   "source": [
    "*Testing*"
   ]
  },
  {
   "cell_type": "code",
   "execution_count": null,
   "metadata": {},
   "outputs": [],
   "source": [
    "_, plot_result, _, _ = GeneticAlgorithm(fitness_func,2,0,20)"
   ]
  },
  {
   "cell_type": "markdown",
   "metadata": {},
   "source": [
    "*Generate Plot*"
   ]
  },
  {
   "cell_type": "code",
   "execution_count": null,
   "metadata": {},
   "outputs": [],
   "source": [
    "display_plot(plot_result)"
   ]
  }
 ],
 "metadata": {
  "kernelspec": {
   "display_name": "Python 3.10.1 64-bit",
   "language": "python",
   "name": "python3"
  },
  "language_info": {
   "codemirror_mode": {
    "name": "ipython",
    "version": 3
   },
   "file_extension": ".py",
   "mimetype": "text/x-python",
   "name": "python",
   "nbconvert_exporter": "python",
   "pygments_lexer": "ipython3",
   "version": "3.10.1"
  },
  "orig_nbformat": 4,
  "vscode": {
   "interpreter": {
    "hash": "ff4605b7fc6945e63735c4f9a7148da6cf6da39f2d7f6fbbf9d3935e14505729"
   }
  }
 },
 "nbformat": 4,
 "nbformat_minor": 2
}
