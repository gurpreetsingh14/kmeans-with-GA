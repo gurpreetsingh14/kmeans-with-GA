{
 "cells": [
  {
   "cell_type": "markdown",
   "metadata": {},
   "source": [
    "**Genetic Algorithm Implementation for 2-Clusters**"
   ]
  },
  {
   "cell_type": "code",
   "execution_count": 56,
   "metadata": {},
   "outputs": [],
   "source": [
    "#Import Libraries\n",
    "import numpy\n",
    "import matplotlib.pyplot as plt\n",
    "from generate_data_class import GenerateData\n",
    "import kmeans"
   ]
  },
  {
   "cell_type": "code",
   "execution_count": 57,
   "metadata": {},
   "outputs": [],
   "source": [
    "#Set Constant Variables\n",
    "num_clusters = 3\n",
    "gy = GenerateData(num_clusters)"
   ]
  },
  {
   "cell_type": "code",
   "execution_count": 58,
   "metadata": {},
   "outputs": [],
   "source": [
    "'''\n",
    "Input: \n",
    "1. solution is the initial coordinates of centriods. For example,\n",
    "if num_of_clusters = 2, then\n",
    "solution = [C1-x, C1-y, C2-x, C2-y]\n",
    "2. data is the whole data, all the samples\n",
    "\n",
    "'''\n",
    "data = gy.raw_data()\n",
    "def cluster_data(solution):\n",
    "    global num_clusters, data\n",
    "    feature_vector_length = data.shape[1]\n",
    "    cluster_centers = []\n",
    "    all_clusters_dists = []\n",
    "    clusters = []\n",
    "    clusters_sum_dist = []\n",
    "\n",
    "    for clust_idx in range(num_clusters):\n",
    "        cluster_centers.append(solution[feature_vector_length*clust_idx:feature_vector_length*(clust_idx+1)])\n",
    "        cluster_center_dists = kmeans.euclidean(data, cluster_centers[clust_idx])\n",
    "        all_clusters_dists.append(numpy.array(cluster_center_dists))\n",
    "\n",
    "    cluster_centers = numpy.array(cluster_centers)\n",
    "    all_clusters_dists = numpy.array(all_clusters_dists)\n",
    "\n",
    "    cluster_indices = numpy.argmin(all_clusters_dists, axis=0)\n",
    "    for clust_idx in range(num_clusters):\n",
    "        clusters.append(numpy.where(cluster_indices == clust_idx)[0])\n",
    "        if len(clusters[clust_idx]) == 0:\n",
    "            clusters_sum_dist.append(0)\n",
    "        else:\n",
    "            clusters_sum_dist.append(numpy.sum(all_clusters_dists[clust_idx, clusters[clust_idx]]))\n",
    "\n",
    "    clusters_sum_dist = numpy.array(clusters_sum_dist)\n",
    "\n",
    "    return cluster_centers, all_clusters_dists, clusters, clusters_sum_dist"
   ]
  },
  {
   "cell_type": "code",
   "execution_count": 59,
   "metadata": {},
   "outputs": [],
   "source": [
    "#fitness function\n",
    "'''\n",
    "fitness_func() is created and calls the cluster_data() function and \n",
    "calculates the sum of distances in all clusters\n",
    "'''\n",
    "def fitness_func(solution):\n",
    "    fit_list = []\n",
    "    m,_ = solution.shape\n",
    "    for t in range(m):\n",
    "        _, _, _, clusters_sum_dist = cluster_data(solution[t])\n",
    "        fitness = 1.0 / (numpy.sum(clusters_sum_dist) + 0.00000001)\n",
    "        fit_list.append(fitness)\n",
    "\n",
    "    return numpy.array(fit_list)"
   ]
  },
  {
   "cell_type": "code",
   "execution_count": 60,
   "metadata": {},
   "outputs": [],
   "source": [
    "#GENERATE Initial coordinates for cluster center\n",
    "\n",
    "def init_cluster_center():\n",
    "    io = []\n",
    "    rc = [1.1, 1.2, 1.3, 1.4, 1.5, 1.6, 1.7, 1.8, 1.9]\n",
    "    cluster1_x1 = numpy.array([40,46,11,11,2,2])\n",
    "    io.append(cluster1_x1)\n",
    "    for y in range(len(rc)):\n",
    "        ui = rc[y]*cluster1_x1\n",
    "        io.append(ui)\n",
    "    return numpy.array(io)"
   ]
  },
  {
   "cell_type": "code",
   "execution_count": 61,
   "metadata": {},
   "outputs": [],
   "source": [
    "#Print Result\n",
    "def get_results(generation,population,fitness):\n",
    "    m = population.shape[0]\n",
    "    best = [fitness.max()]\n",
    "    index = numpy.where(numpy.isclose(fitness, best))\n",
    "    population = numpy.array(population)\n",
    "    print(f'Generation #{generation}   |fitness: {max(fitness):0.5f} |Centroid = {population[index[0]][0]}')"
   ]
  },
  {
   "cell_type": "code",
   "execution_count": 62,
   "metadata": {},
   "outputs": [],
   "source": [
    "#Plot Fitness Values over generations\n",
    "def display_plot(best):\n",
    "    plt.plot(best, color='c')\n",
    "    plt.xlabel('Iteration')\n",
    "    plt.ylabel('Best Fitness')\n",
    "    plt.grid()\n",
    "    plt.show()"
   ]
  },
  {
   "cell_type": "code",
   "execution_count": 63,
   "metadata": {},
   "outputs": [],
   "source": [
    "#Selection\n",
    "def selection(pop,sample_size, fitness):\n",
    "    m,n = pop.shape\n",
    "    new_pop = pop.copy()\n",
    "        \n",
    "    for i in range(m):\n",
    "        rand_id = numpy.random.choice(m, size=max(1, int(sample_size*m)), replace=False)\n",
    "        max_id = rand_id[fitness[rand_id].argmax()]\n",
    "        new_pop[i] = pop[max_id].copy()\n",
    "    \n",
    "    return new_pop\n",
    "\n",
    "#Crossover\n",
    "def crossover(pop, pc):\n",
    "    m,n = pop.shape\n",
    "    new_pop = pop.copy()\n",
    "    \n",
    "    for i in range(0, m-1, 2):\n",
    "        if numpy.random.uniform(0, 1) < pc:\n",
    "            pos = numpy.random.randint(0, n-1)\n",
    "            new_pop[i, pos+1:] = pop[i+1, pos+1:].copy()\n",
    "            new_pop[i+1, pos+1:] = pop[i, pos+1:].copy()\n",
    "            \n",
    "    return new_pop\n",
    "\n",
    "#Mutation\n",
    "def mutation(pop, pm):\n",
    "    m,n = pop.shape\n",
    "    new_pop = pop.copy()\n",
    "    mutation_prob = (numpy.random.uniform(0, 1, size=(m,n)) < pm).astype(int)\n",
    "    return (mutation_prob + new_pop)\n",
    "\n",
    "#GENETIC ALGORITHM\n",
    "\n",
    "def GeneticAlgorithm(func,ps=0.2, pc=1.0, pm=0.1, max_iter=100, random_state=123):\n",
    "    \n",
    "    numpy.random.seed(random_state)\n",
    "    pop = init_cluster_center()\n",
    "    fitness = func(pop)\n",
    "    best = [fitness.max()]    \n",
    "    print('=' * 68)\n",
    "    get_results(-1,pop,fitness)\n",
    "    i = 0\n",
    "    while i < max_iter:\n",
    "        pop = selection(pop, ps, fitness)\n",
    "        pop = crossover(pop, pc)\n",
    "        pop = mutation(pop, pm)\n",
    "        fitness = func(pop)\n",
    "        best.append(fitness.max())\n",
    "        get_results(i,pop,fitness)\n",
    "        i += 1\n",
    "        \n",
    "    return fitness, best, i, pop\n",
    "    "
   ]
  },
  {
   "cell_type": "code",
   "execution_count": 64,
   "metadata": {},
   "outputs": [
    {
     "name": "stdout",
     "output_type": "stream",
     "text": [
      "====================================================================\n",
      "Generation #-1   |fitness: 0.00061 |Centroid = [44.  50.6 12.1 12.1  2.2  2.2]\n",
      "Generation #0   |fitness: 0.00061 |Centroid = [44.  50.6 12.1 12.1  2.2  2.2]\n",
      "Generation #1   |fitness: 0.00062 |Centroid = [44.  50.6 12.1 12.1  2.2  2.6]\n",
      "Generation #2   |fitness: 0.00062 |Centroid = [44.  51.6 12.1 12.1  2.2  3.6]\n",
      "Generation #3   |fitness: 0.00062 |Centroid = [44.  50.6 12.1 14.3  3.6  2.6]\n",
      "Generation #4   |fitness: 0.00062 |Centroid = [45.  46.  14.3 13.1  2.2  3.6]\n",
      "Generation #5   |fitness: 0.00062 |Centroid = [45.  51.6 13.1 14.1  3.2  2.6]\n",
      "Generation #6   |fitness: 0.00062 |Centroid = [45.  51.6 13.1 12.1  2.2  3.6]\n",
      "Generation #7   |fitness: 0.00062 |Centroid = [45.  51.6 13.1 12.1  2.2  3.6]\n",
      "Generation #8   |fitness: 0.00062 |Centroid = [47.  51.6 12.1 12.1  4.6  3.6]\n",
      "Generation #9   |fitness: 0.00062 |Centroid = [46.  51.6 13.1 13.1  4.6  3.6]\n",
      "Generation #10   |fitness: 0.00062 |Centroid = [47.  51.6 12.1 13.1  4.6  3.6]\n",
      "Generation #11   |fitness: 0.00062 |Centroid = [47.  51.6 12.1 13.1  4.2  3.6]\n",
      "Generation #12   |fitness: 0.00062 |Centroid = [47.  51.6 13.1 13.1  4.2  3.6]\n",
      "Generation #13   |fitness: 0.00062 |Centroid = [48.  51.6 12.1 13.1  4.2  3.6]\n",
      "Generation #14   |fitness: 0.00062 |Centroid = [48.  51.6 13.1 14.1  4.2  3.6]\n",
      "Generation #15   |fitness: 0.00062 |Centroid = [48.  51.6 13.1 14.1  4.2  3.6]\n",
      "Generation #16   |fitness: 0.00062 |Centroid = [48.  51.6 13.1 14.1  4.2  3.6]\n",
      "Generation #17   |fitness: 0.00062 |Centroid = [48.  51.6 12.1 13.1  4.2  3.6]\n",
      "Generation #18   |fitness: 0.00062 |Centroid = [48.  51.6 12.1 13.1  4.2  3.6]\n",
      "Generation #19   |fitness: 0.00062 |Centroid = [48.  51.6 13.1 14.1  4.2  3.6]\n",
      "Generation #20   |fitness: 0.00062 |Centroid = [48.  51.6 13.1 14.1  4.2  3.6]\n",
      "Generation #21   |fitness: 0.00062 |Centroid = [48.  51.6 13.1 14.1  4.2  3.6]\n",
      "Generation #22   |fitness: 0.00062 |Centroid = [48.  51.6 14.1 14.1  4.2  3.6]\n",
      "Generation #23   |fitness: 0.00062 |Centroid = [48.  51.6 14.1 14.1  4.2  3.6]\n",
      "Generation #24   |fitness: 0.00062 |Centroid = [48.  51.6 14.1 14.1  4.2  3.6]\n",
      "Generation #25   |fitness: 0.00062 |Centroid = [49.  51.6 14.1 14.1  4.2  3.6]\n",
      "Generation #26   |fitness: 0.00062 |Centroid = [49.  51.6 14.1 14.1  4.2  3.6]\n",
      "Generation #27   |fitness: 0.00062 |Centroid = [49.  51.6 14.1 14.1  4.2  3.6]\n",
      "Generation #28   |fitness: 0.00062 |Centroid = [49.  51.6 14.1 14.1  4.2  3.6]\n",
      "Generation #29   |fitness: 0.00062 |Centroid = [49.  51.6 14.1 14.1  4.2  3.6]\n",
      "Generation #30   |fitness: 0.00062 |Centroid = [49.  51.6 14.1 14.1  4.2  3.6]\n",
      "Generation #31   |fitness: 0.00062 |Centroid = [49.  51.6 14.1 14.1  4.2  3.6]\n",
      "Generation #32   |fitness: 0.00062 |Centroid = [49.  51.6 14.1 14.1  4.2  3.6]\n",
      "Generation #33   |fitness: 0.00062 |Centroid = [49.  51.6 14.1 14.1  4.2  3.6]\n",
      "Generation #34   |fitness: 0.00062 |Centroid = [49.  51.6 14.1 14.1  4.2  3.6]\n",
      "Generation #35   |fitness: 0.00062 |Centroid = [50.  51.6 14.1 14.1  4.2  3.6]\n",
      "Generation #36   |fitness: 0.00062 |Centroid = [49.  51.6 14.1 14.1  4.2  3.6]\n",
      "Generation #37   |fitness: 0.00062 |Centroid = [49.  51.6 14.1 14.1  4.2  3.6]\n",
      "Generation #38   |fitness: 0.00062 |Centroid = [51.  51.6 14.1 14.1  4.2  3.6]\n",
      "Generation #39   |fitness: 0.00062 |Centroid = [51.  51.6 14.1 14.1  4.2  3.6]\n",
      "Generation #40   |fitness: 0.00062 |Centroid = [51.  51.6 14.1 14.1  4.2  3.6]\n",
      "Generation #41   |fitness: 0.00062 |Centroid = [49.  52.6 14.1 14.1  4.2  3.6]\n",
      "Generation #42   |fitness: 0.00062 |Centroid = [49.  52.6 14.1 14.1  4.2  3.6]\n",
      "Generation #43   |fitness: 0.00061 |Centroid = [49.  51.6 14.1 14.1  4.2  4.6]\n",
      "Generation #44   |fitness: 0.00061 |Centroid = [49.  51.6 14.1 14.1  4.2  4.6]\n",
      "Generation #45   |fitness: 0.00061 |Centroid = [49.  51.6 14.1 14.1  4.2  4.6]\n",
      "Generation #46   |fitness: 0.00061 |Centroid = [49.  51.6 14.1 14.1  4.2  4.6]\n",
      "Generation #47   |fitness: 0.00061 |Centroid = [49.  51.6 14.1 14.1  4.2  4.6]\n",
      "Generation #48   |fitness: 0.00061 |Centroid = [49.  51.6 14.1 14.1  4.2  4.6]\n",
      "Generation #49   |fitness: 0.00061 |Centroid = [49.  51.6 14.1 14.1  4.2  4.6]\n",
      "Generation #50   |fitness: 0.00061 |Centroid = [49.  51.6 14.1 14.1  4.2  4.6]\n",
      "Generation #51   |fitness: 0.00061 |Centroid = [49.  51.6 14.1 14.1  4.2  4.6]\n",
      "Generation #52   |fitness: 0.00061 |Centroid = [49.  51.6 14.1 14.1  4.2  4.6]\n",
      "Generation #53   |fitness: 0.00061 |Centroid = [49.  51.6 14.1 14.1  4.2  4.6]\n",
      "Generation #54   |fitness: 0.00061 |Centroid = [49.  51.6 14.1 14.1  4.2  4.6]\n",
      "Generation #55   |fitness: 0.00061 |Centroid = [49.  51.6 14.1 14.1  4.2  4.6]\n",
      "Generation #56   |fitness: 0.00061 |Centroid = [49.  51.6 14.1 15.1  4.2  4.6]\n",
      "Generation #57   |fitness: 0.00061 |Centroid = [49.  51.6 14.1 15.1  4.2  4.6]\n",
      "Generation #58   |fitness: 0.00061 |Centroid = [49.  51.6 14.1 15.1  4.2  4.6]\n",
      "Generation #59   |fitness: 0.00061 |Centroid = [49.  51.6 14.1 15.1  4.2  4.6]\n",
      "Generation #60   |fitness: 0.00061 |Centroid = [49.  51.6 14.1 15.1  4.2  4.6]\n",
      "Generation #61   |fitness: 0.00061 |Centroid = [49.  51.6 14.1 15.1  4.2  4.6]\n",
      "Generation #62   |fitness: 0.00061 |Centroid = [49.  51.6 14.1 15.1  4.2  4.6]\n",
      "Generation #63   |fitness: 0.00061 |Centroid = [49.  51.6 14.1 15.1  4.2  4.6]\n",
      "Generation #64   |fitness: 0.00061 |Centroid = [49.  51.6 14.1 15.1  4.2  4.6]\n",
      "Generation #65   |fitness: 0.00061 |Centroid = [49.  51.6 14.1 15.1  4.2  4.6]\n",
      "Generation #66   |fitness: 0.00060 |Centroid = [49.  51.6 14.1 16.1  4.2  4.6]\n",
      "Generation #67   |fitness: 0.00061 |Centroid = [49.  51.6 14.1 15.1  4.2  4.6]\n",
      "Generation #68   |fitness: 0.00061 |Centroid = [49.  51.6 14.1 15.1  4.2  4.6]\n",
      "Generation #69   |fitness: 0.00061 |Centroid = [49.  51.6 14.1 15.1  4.2  4.6]\n",
      "Generation #70   |fitness: 0.00061 |Centroid = [49.  51.6 14.1 15.1  4.2  4.6]\n",
      "Generation #71   |fitness: 0.00061 |Centroid = [49.  51.6 14.1 15.1  4.2  4.6]\n",
      "Generation #72   |fitness: 0.00061 |Centroid = [49.  51.6 14.1 15.1  4.2  4.6]\n",
      "Generation #73   |fitness: 0.00061 |Centroid = [49.  51.6 14.1 15.1  4.2  4.6]\n",
      "Generation #74   |fitness: 0.00061 |Centroid = [49.  51.6 14.1 15.1  4.2  4.6]\n",
      "Generation #75   |fitness: 0.00061 |Centroid = [49.  51.6 14.1 15.1  4.2  4.6]\n",
      "Generation #76   |fitness: 0.00061 |Centroid = [49.  51.6 14.1 15.1  4.2  4.6]\n",
      "Generation #77   |fitness: 0.00061 |Centroid = [49.  51.6 14.1 15.1  4.2  4.6]\n",
      "Generation #78   |fitness: 0.00061 |Centroid = [49.  51.6 14.1 15.1  4.2  4.6]\n",
      "Generation #79   |fitness: 0.00061 |Centroid = [49.  51.6 14.1 15.1  4.2  4.6]\n",
      "Generation #80   |fitness: 0.00061 |Centroid = [50.  51.6 14.1 15.1  4.2  4.6]\n",
      "Generation #81   |fitness: 0.00061 |Centroid = [49.  51.6 14.1 15.1  4.2  4.6]\n",
      "Generation #82   |fitness: 0.00061 |Centroid = [49.  51.6 14.1 15.1  4.2  4.6]\n",
      "Generation #83   |fitness: 0.00061 |Centroid = [49.  51.6 14.1 15.1  4.2  4.6]\n",
      "Generation #84   |fitness: 0.00061 |Centroid = [49.  51.6 14.1 15.1  4.2  4.6]\n",
      "Generation #85   |fitness: 0.00061 |Centroid = [49.  51.6 14.1 15.1  4.2  4.6]\n",
      "Generation #86   |fitness: 0.00061 |Centroid = [49.  51.6 14.1 15.1  4.2  4.6]\n",
      "Generation #87   |fitness: 0.00061 |Centroid = [49.  51.6 14.1 15.1  4.2  4.6]\n",
      "Generation #88   |fitness: 0.00061 |Centroid = [49.  51.6 14.1 15.1  4.2  4.6]\n",
      "Generation #89   |fitness: 0.00061 |Centroid = [49.  51.6 14.1 15.1  4.2  4.6]\n",
      "Generation #90   |fitness: 0.00061 |Centroid = [49.  51.6 14.1 15.1  4.2  4.6]\n",
      "Generation #91   |fitness: 0.00061 |Centroid = [49.  51.6 14.1 15.1  4.2  4.6]\n",
      "Generation #92   |fitness: 0.00061 |Centroid = [49.  51.6 14.1 15.1  4.2  4.6]\n",
      "Generation #93   |fitness: 0.00061 |Centroid = [49.  51.6 14.1 15.1  4.2  4.6]\n",
      "Generation #94   |fitness: 0.00061 |Centroid = [49.  51.6 14.1 15.1  4.2  4.6]\n",
      "Generation #95   |fitness: 0.00061 |Centroid = [49.  51.6 14.1 15.1  4.2  4.6]\n",
      "Generation #96   |fitness: 0.00061 |Centroid = [50.  51.6 14.1 15.1  4.2  4.6]\n",
      "Generation #97   |fitness: 0.00061 |Centroid = [50.  51.6 14.1 15.1  4.2  4.6]\n",
      "Generation #98   |fitness: 0.00061 |Centroid = [50.  51.6 14.1 15.1  4.2  4.6]\n",
      "Generation #99   |fitness: 0.00061 |Centroid = [50.  51.6 14.1 15.1  4.2  4.6]\n"
     ]
    }
   ],
   "source": [
    "_, plot_result, _, _ = GeneticAlgorithm(fitness_func)"
   ]
  },
  {
   "cell_type": "code",
   "execution_count": 65,
   "metadata": {},
   "outputs": [
    {
     "data": {
      "image/png": "[encoded data removed]",
      "text/plain": [
       "<Figure size 432x288 with 1 Axes>"
      ]
     },
     "metadata": {
      "needs_background": "light"
     },
     "output_type": "display_data"
    }
   ],
   "source": [
    "display_plot(plot_result)"
   ]
  }
 ],
 "metadata": {
  "kernelspec": {
   "display_name": "Python 3.10.1 64-bit",
   "language": "python",
   "name": "python3"
  },
  "language_info": {
   "codemirror_mode": {
    "name": "ipython",
    "version": 3
   },
   "file_extension": ".py",
   "mimetype": "text/x-python",
   "name": "python",
   "nbconvert_exporter": "python",
   "pygments_lexer": "ipython3",
   "version": "3.10.1"
  },
  "orig_nbformat": 4,
  "vscode": {
   "interpreter": {
    "hash": "ff4605b7fc6945e63735c4f9a7148da6cf6da39f2d7f6fbbf9d3935e14505729"
   }
  }
 },
 "nbformat": 4,
 "nbformat_minor": 2
}
